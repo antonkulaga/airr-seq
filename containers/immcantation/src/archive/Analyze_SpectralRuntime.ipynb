{
 "cells": [
  {
   "cell_type": "code",
   "execution_count": 1,
   "id": "c6662f45-5fd0-487d-a955-a0ce4ae10327",
   "metadata": {},
   "outputs": [],
   "source": [
    "include <- function(pkg) {\n",
    "  if (!suppressMessages(require(pkg, character.only = TRUE)))\n",
    "    install.packages(pkg, character.only = TRUE)\n",
    "  suppressMessages(library(pkg, pkg, character.only = TRUE))\n",
    "}\n",
    "include(\"dplyr\")\n",
    "include(\"scoper\")\n",
    "include(\"alakazam\")"
   ]
  },
  {
   "cell_type": "code",
   "execution_count": 2,
   "id": "eb690a8f-07ac-4b4e-8261-69c14cde2bdd",
   "metadata": {},
   "outputs": [
    {
     "data": {
      "text/html": [
       "<style>\n",
       ".list-inline {list-style: none; margin:0; padding: 0}\n",
       ".list-inline>li {display: inline-block}\n",
       ".list-inline>li:not(:last-child)::after {content: \"\\00b7\"; padding: 0 .5ex}\n",
       "</style>\n",
       "<ol class=list-inline><li>13041</li><li>61</li></ol>\n"
      ],
      "text/latex": [
       "\\begin{enumerate*}\n",
       "\\item 13041\n",
       "\\item 61\n",
       "\\end{enumerate*}\n"
      ],
      "text/markdown": [
       "1. 13041\n",
       "2. 61\n",
       "\n",
       "\n"
      ],
      "text/plain": [
       "[1] 13041    61"
      ]
     },
     "metadata": {},
     "output_type": "display_data"
    }
   ],
   "source": [
    "tsv <- \"/data/samples/AIRR-Seq/OURS/S3987Nr1/S3987Nr1-PBMC_heavy/changeo_igblast/S3987Nr1-PBMC_heavy_f_parse-select_with_translation.tsv\"\n",
    "db <- alakazam::readChangeoDb(tsv)\n",
    "dim(db)"
   ]
  },
  {
   "cell_type": "code",
   "execution_count": 3,
   "id": "b44f4f1b-e729-4113-9a13-7bfc44059791",
   "metadata": {},
   "outputs": [],
   "source": [
    "time_spectral <- function(db) {\n",
    "  time <- system.time({\n",
    "      tryCatch({\n",
    "              print(paste0(\"Timing: max_iter=1k, size=\", dim(db)[1]))\n",
    "              scoper::spectralClones(db, \"vj\", verbose=FALSE)\n",
    "          },\n",
    "          warning=function(cond) {\n",
    "              iter_max_warning = 30000\n",
    "              nstart_warning = 10000\n",
    "              print(paste0(\n",
    "                  \"Warning issued. Retrying with iter_max=\", iter_max_warning,\n",
    "                  \"; nstart=\", nstart_warning\n",
    "              ))\n",
    "              scoper::spectralClones(\n",
    "                  db,\n",
    "                  \"vj\",\n",
    "                  verbose = FALSE, \n",
    "                  iter_max = iter_max_warning,\n",
    "                  nstart = nstart_warning)\n",
    "          }\n",
    "      )\n",
    "    \n",
    "  })\n",
    "  return(time)\n",
    "}"
   ]
  },
  {
   "cell_type": "code",
   "execution_count": 4,
   "id": "5baf43e2-9a20-472a-b040-86ac853c58d9",
   "metadata": {},
   "outputs": [
    {
     "name": "stdout",
     "output_type": "stream",
     "text": [
      "[1] \"Timing: max_iter=1k, size=1000\"\n"
     ]
    },
    {
     "name": "stderr",
     "output_type": "stream",
     "text": [
      "Running defineClonesScoper in bulk mode\n",
      "\n"
     ]
    },
    {
     "name": "stdout",
     "output_type": "stream",
     "text": [
      "[1] \"Timing: max_iter=1k, size=3000\"\n"
     ]
    },
    {
     "name": "stderr",
     "output_type": "stream",
     "text": [
      "Running defineClonesScoper in bulk mode\n",
      "\n"
     ]
    },
    {
     "name": "stdout",
     "output_type": "stream",
     "text": [
      "[1] \"Timing: max_iter=1k, size=5000\"\n"
     ]
    },
    {
     "name": "stderr",
     "output_type": "stream",
     "text": [
      "Running defineClonesScoper in bulk mode\n",
      "\n"
     ]
    },
    {
     "name": "stdout",
     "output_type": "stream",
     "text": [
      "[1] \"Timing: max_iter=1k, size=7000\"\n"
     ]
    },
    {
     "name": "stderr",
     "output_type": "stream",
     "text": [
      "Running defineClonesScoper in bulk mode\n",
      "\n"
     ]
    },
    {
     "name": "stdout",
     "output_type": "stream",
     "text": [
      "[1] \"Timing: max_iter=1k, size=9000\"\n"
     ]
    },
    {
     "name": "stderr",
     "output_type": "stream",
     "text": [
      "Running defineClonesScoper in bulk mode\n",
      "\n"
     ]
    },
    {
     "name": "stdout",
     "output_type": "stream",
     "text": [
      "[1] \"Timing: max_iter=1k, size=11000\"\n"
     ]
    },
    {
     "name": "stderr",
     "output_type": "stream",
     "text": [
      "Running defineClonesScoper in bulk mode\n",
      "\n"
     ]
    },
    {
     "name": "stdout",
     "output_type": "stream",
     "text": [
      "[1] \"Timing: max_iter=1k, size=13000\"\n"
     ]
    },
    {
     "name": "stderr",
     "output_type": "stream",
     "text": [
      "Running defineClonesScoper in bulk mode\n",
      "\n"
     ]
    },
    {
     "data": {
      "text/html": [
       "<table class=\"dataframe\">\n",
       "<caption>A data.frame: 6 x 2</caption>\n",
       "<thead>\n",
       "\t<tr><th></th><th scope=col>n</th><th scope=col>time</th></tr>\n",
       "\t<tr><th></th><th scope=col>&lt;dbl&gt;</th><th scope=col>&lt;dbl&gt;</th></tr>\n",
       "</thead>\n",
       "<tbody>\n",
       "\t<tr><th scope=row>1</th><td> 1000</td><td> 21.974</td></tr>\n",
       "\t<tr><th scope=row>2</th><td> 3000</td><td> 47.935</td></tr>\n",
       "\t<tr><th scope=row>3</th><td> 5000</td><td>126.617</td></tr>\n",
       "\t<tr><th scope=row>4</th><td> 7000</td><td>178.980</td></tr>\n",
       "\t<tr><th scope=row>5</th><td> 9000</td><td>268.891</td></tr>\n",
       "\t<tr><th scope=row>6</th><td>11000</td><td>392.668</td></tr>\n",
       "</tbody>\n",
       "</table>\n"
      ],
      "text/latex": [
       "A data.frame: 6 x 2\n",
       "\\begin{tabular}{r|ll}\n",
       "  & n & time\\\\\n",
       "  & <dbl> & <dbl>\\\\\n",
       "\\hline\n",
       "\t1 &  1000 &  21.974\\\\\n",
       "\t2 &  3000 &  47.935\\\\\n",
       "\t3 &  5000 & 126.617\\\\\n",
       "\t4 &  7000 & 178.980\\\\\n",
       "\t5 &  9000 & 268.891\\\\\n",
       "\t6 & 11000 & 392.668\\\\\n",
       "\\end{tabular}\n"
      ],
      "text/markdown": [
       "\n",
       "A data.frame: 6 x 2\n",
       "\n",
       "| <!--/--> | n &lt;dbl&gt; | time &lt;dbl&gt; |\n",
       "|---|---|---|\n",
       "| 1 |  1000 |  21.974 |\n",
       "| 2 |  3000 |  47.935 |\n",
       "| 3 |  5000 | 126.617 |\n",
       "| 4 |  7000 | 178.980 |\n",
       "| 5 |  9000 | 268.891 |\n",
       "| 6 | 11000 | 392.668 |\n",
       "\n"
      ],
      "text/plain": [
       "  n     time   \n",
       "1  1000  21.974\n",
       "2  3000  47.935\n",
       "3  5000 126.617\n",
       "4  7000 178.980\n",
       "5  9000 268.891\n",
       "6 11000 392.668"
      ]
     },
     "metadata": {},
     "output_type": "display_data"
    }
   ],
   "source": [
    "sample_sizes = seq(1000, 13000, 2000)\n",
    "times <- sapply(\n",
    "  sample_sizes,\n",
    "  function(n) {time_spectral(dplyr::sample_n(db, n))}\n",
    ")\n",
    "\n",
    "res = data.frame(sample_sizes, times[1, ])\n",
    "colnames(res) = c(\"n\", \"time\")\n",
    "head(res)"
   ]
  },
  {
   "cell_type": "code",
   "execution_count": 5,
   "id": "d55ca220-82b9-41bd-895c-016a8ca1ea2d",
   "metadata": {},
   "outputs": [
    {
     "data": {
      "text/plain": [
       "\n",
       "Call:\n",
       "lm(formula = time ~ n, data = res)\n",
       "\n",
       "Coefficients:\n",
       "(Intercept)            n  \n",
       "  -68.48439      0.04158  \n"
      ]
     },
     "metadata": {},
     "output_type": "display_data"
    }
   ],
   "source": [
    "m <- lm(time ~ n, res)\n",
    "m"
   ]
  },
  {
   "cell_type": "code",
   "execution_count": 6,
   "id": "4a718675-42ba-4acc-9ad8-97551c1edd84",
   "metadata": {},
   "outputs": [
    {
     "data": {
      "image/png": "[encoded data removed]",
      "text/plain": [
       "plot without title"
      ]
     },
     "metadata": {
      "image/png": {
       "height": 420,
       "width": 420
      }
     },
     "output_type": "display_data"
    }
   ],
   "source": [
    "plot(res)"
   ]
  },
  {
   "cell_type": "code",
   "execution_count": 7,
   "id": "ce64e26e-6cb8-486f-bf6d-1339e6a8eb80",
   "metadata": {},
   "outputs": [
    {
     "data": {
      "text/html": [
       "<style>\n",
       ".list-inline {list-style: none; margin:0; padding: 0}\n",
       ".list-inline>li {display: inline-block}\n",
       ".list-inline>li:not(:last-child)::after {content: \"\\00b7\"; padding: 0 .5ex}\n",
       "</style>\n",
       "<ol class=list-inline><li>172581</li><li>61</li></ol>\n"
      ],
      "text/latex": [
       "\\begin{enumerate*}\n",
       "\\item 172581\n",
       "\\item 61\n",
       "\\end{enumerate*}\n"
      ],
      "text/markdown": [
       "1. 172581\n",
       "2. 61\n",
       "\n",
       "\n"
      ],
      "text/plain": [
       "[1] 172581     61"
      ]
     },
     "metadata": {},
     "output_type": "display_data"
    }
   ],
   "source": [
    "tsv2 <- \"/data/samples/AIRR-Seq/OURS/S3987Nr2/S3987Nr2-PBMC_heavy/changeo_igblast/S3987Nr2-PBMC_heavy_f_parse-select_with_translation.tsv\"\n",
    "db2 <- alakazam::readChangeoDb(tsv2)\n",
    "dim(db2)"
   ]
  },
  {
   "cell_type": "code",
   "execution_count": 8,
   "id": "17097ec6-0309-4e09-aa1a-b2e72acb578e",
   "metadata": {},
   "outputs": [
    {
     "name": "stdout",
     "output_type": "stream",
     "text": [
      "[1] \"Timing: max_iter=1k, size=100000\"\n"
     ]
    },
    {
     "name": "stderr",
     "output_type": "stream",
     "text": [
      "Running defineClonesScoper in bulk mode\n",
      "\n",
      "Timing stopped at: 1.559e+04 350.4 2993\n",
      "\n"
     ]
    }
   ],
   "source": [
    "sample_sizes2 = seq(100000, 170000, 10000)\n",
    "times2 <- sapply(\n",
    "  sample_sizes2,\n",
    "  function(n) {time_spectral(dplyr::sample_n(db2, n))}\n",
    ")\n",
    "\n",
    "res2 = data.frame(sample_sizes2, times2[1, ])"
   ]
  },
  {
   "cell_type": "code",
   "execution_count": null,
   "id": "b3c12eec-386e-4684-bfe1-b71791d6d741",
   "metadata": {},
   "outputs": [],
   "source": [
    "colnames(res2) <- c(\"n\", \"time\")\n",
    "res2"
   ]
  },
  {
   "cell_type": "code",
   "execution_count": null,
   "id": "42a417ea-8ced-412b-a926-f7bdbe2c0496",
   "metadata": {},
   "outputs": [],
   "source": [
    "m <- lm(time ~ n, res2)\n",
    "m"
   ]
  },
  {
   "cell_type": "code",
   "execution_count": null,
   "id": "57b24dbc-d7fe-4c6e-bc5a-ca52ec32285c",
   "metadata": {},
   "outputs": [],
   "source": [
    "predict(m, data.frame(n = 200000))"
   ]
  },
  {
   "cell_type": "code",
   "execution_count": null,
   "id": "e5728dda-ae81-472c-8971-51978d9a3ba1",
   "metadata": {},
   "outputs": [],
   "source": []
  }
 ],
 "metadata": {
  "kernelspec": {
   "display_name": "R",
   "language": "R",
   "name": "ir"
  },
  "language_info": {
   "codemirror_mode": "r",
   "file_extension": ".r",
   "mimetype": "text/x-r-source",
   "name": "R",
   "pygments_lexer": "r",
   "version": "4.0.5"
  }
 },
 "nbformat": 4,
 "nbformat_minor": 5
}
