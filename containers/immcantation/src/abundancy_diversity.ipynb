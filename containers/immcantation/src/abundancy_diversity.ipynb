{
 "cells": [
  {
   "cell_type": "code",
   "execution_count": 1,
   "id": "8b5ac250-d240-468f-a2b5-1e97d82fdfd9",
   "metadata": {},
   "outputs": [],
   "source": [
    "source(\"imports.r\")\n",
    "source(\"helpers.r\")"
   ]
  },
  {
   "cell_type": "code",
   "execution_count": 2,
   "id": "1019f3ed-c655-4d59-9c12-04fb8968979a",
   "metadata": {},
   "outputs": [],
   "source": [
    "doc <- \"Usage:\n",
    "  abundancy_diversity.R [--name <name>] [--wd <wd>]  <tsv> \n",
    "\n",
    "  Options:\n",
    "    -w --wd <wd> [default: .]\n",
    "    -n --name <name> Name of the sample\n",
    "    -h --help Show this screen.\""
   ]
  },
  {
   "cell_type": "code",
   "execution_count": 3,
   "id": "9ae628a9-f0e8-4e12-a881-23f400933095",
   "metadata": {},
   "outputs": [
    {
     "name": "stdout",
     "output_type": "stream",
     "text": [
      "[1] \"--name S3987Nr1-PBMC_heavy /data/samples/AIRR-Seq/OURS/S3987Nr1/S3987Nr1-PBMC_heavy/subsamples/sample_1000/clones/S3987Nr1-PBMC_heavy_with_clones.tsv\"\n",
      "List of 8\n",
      " $ --wd  : chr \".\"\n",
      " $ --name: chr \"S3987Nr1-PBMC_heavy\"\n",
      " $ --help: NULL\n",
      " $ <tsv> : chr \"/data/samples/AIRR-Seq/OURS/S3987Nr1/S3987Nr1-PBMC_heavy/subsamples/sample_1000/clones/S3987Nr1-PBMC_heavy_with_clones.tsv\"\n",
      " $ wd    : chr \".\"\n",
      " $ name  : chr \"S3987Nr1-PBMC_heavy\"\n",
      " $ help  : NULL\n",
      " $ tsv   : chr \"/data/samples/AIRR-Seq/OURS/S3987Nr1/S3987Nr1-PBMC_heavy/subsamples/sample_1000/clones/S3987Nr1-PBMC_heavy_with_clones.tsv\"\n",
      "NULL\n"
     ]
    }
   ],
   "source": [
    "debug <- TRUE\n",
    "if (debug == TRUE) {\n",
    "  tsv <- file.path(\"/data\", \"samples\", \"AIRR-Seq\", \"OURS\", \"S3987Nr1\", \"S3987Nr1-PBMC_heavy\", \"subsamples\", \"sample_1000\", \"clones\", \"S3987Nr1-PBMC_heavy_with_clones.tsv\")   \n",
    "  args <- paste(\"--name S3987Nr1-PBMC_heavy\", tsv)\n",
    "  print(args)\n",
    "  values <- docopt(doc, args = args, version = \"0.1\")\n",
    "  print(values)\n",
    "} else {\n",
    "  values <- docopt(doc, version = \"0.1\")\n",
    "}"
   ]
  },
  {
   "cell_type": "code",
   "execution_count": 4,
   "id": "88588250-a0e6-46c8-93a3-16fd9038e76a",
   "metadata": {},
   "outputs": [],
   "source": [
    "tsv <- values$tsv\n",
    "name <- values$name"
   ]
  },
  {
   "cell_type": "markdown",
   "id": "fa95ae52-3510-4d87-be9a-ed5ba068963e",
   "metadata": {},
   "source": [
    "### Calculate clone counts, coverage, abundancy and diversity ###"
   ]
  },
  {
   "cell_type": "code",
   "execution_count": 34,
   "id": "55e3bb52-877a-4992-8695-ed14b7b9bcfa",
   "metadata": {},
   "outputs": [],
   "source": [
    "computeCloneCounts <- function(clones_results, name) {\n",
    "    print(\"Computing clonotypes counts\")\n",
    "    counts <- alakazam::countClones(clones_results, copy = \"duplicate_count\")\n",
    "    writeAnalysisTable(counts, build_filepath(name, \"clone_counts\", \"tsv\"))\n",
    "    return(counts)\n",
    "}\n",
    "\n",
    "computeCoverage <- function(counts) {\n",
    "    \n",
    "    computeCoverage_subroutine <- function(max_order, counts) {\n",
    "        orders <- 1:max_order\n",
    "        coverages <- sapply(\n",
    "            orders,\n",
    "            function(order) { alakazam::calcCoverage(counts$seq_count, order) }\n",
    "        )\n",
    "        return(coverages)\n",
    "    }\n",
    "    \n",
    "    tryCatchComputeCoverage <- function(counts, env) {\n",
    "        coverages <- tryCatch({\n",
    "                order <- get(\"order\", env=env)\n",
    "                return(computeCoverage_subroutine(order, counts))\n",
    "            },\n",
    "            error=function(cond) {\n",
    "                order <- get(\"order\", env=env)\n",
    "                assign(\"order\", order-1, env=env)\n",
    "                print(paste0(\"Attempted coverage computation with order=\", order,\n",
    "                             \"; Encountered error: \", cond, \"; Attempting with order=\", order-1))\n",
    "                return(tryCatchComputeCoverage(counts, env))\n",
    "            }\n",
    "        )\n",
    "        return(coverages)\n",
    "    }\n",
    "    \n",
    "    compute_coverage_env <- new.env()\n",
    "    assign(\"order\", 10, env=compute_coverage_env)\n",
    "    coverages <- tryCatchComputeCoverage(counts, compute_coverage_env)\n",
    "\n",
    "    order <- get(\"order\", env=compute_coverage_env)\n",
    "    df <- data.frame(1:order, coverages)\n",
    "    writeAnalysisTable(df, build_filepath(name, \"coverages\", \"tsv\"))\n",
    "}\n",
    "\n",
    "plotAbundancy <- function(abundanceCurve, name, filepath, debug) {\n",
    "    sample_colors <- c(`-1h` = \"seagreen\", `+7d` = \"steelblue\")\n",
    "    png(file = filepath, width = 800, height = 600)\n",
    "    # Plots a rank abundance curve of the relative clonal abundances\n",
    "    plot(abundanceCurve, colors = sample_colors, legend_title = name)\n",
    "    if (debug == TRUE) {\n",
    "      dev.off()\n",
    "    }\n",
    "    print(paste(\"abundances curve chart is written to\", filepath))\n",
    "    plot(abundanceCurve, colors = sample_colors, legend_title = name)  # to display in notebook\n",
    "}\n",
    "computeAbundancy <- function(clones_results, name, debug) {\n",
    "    print(\"Calculates abundancy with 95% confidence interval via 200 bootstrap realizations\")\n",
    "    abundanceCurve <- alakazam::estimateAbundance(clones_results, ci = 0.95, nboot = 200, clone = \"clone_id\", progress = TRUE)\n",
    "    writeAnalysisTable(abundanceCurve@abundance, build_filepath(name, \"abundance_curve\", \"tsv\"))\n",
    "    plotAbundancy(abundanceCurve, name, build_filepath(name, \"abundancy_curve\", \"png\"), debug)\n",
    "    return(abundanceCurve)\n",
    "}\n",
    "\n",
    "plotDiversity <- function(diversity, filepath, debug) {\n",
    "    png(file = filepath, width = 800, height = 600)\n",
    "    plot(diversity)\n",
    "    if (debug == TRUE) {\n",
    "      dev.off()\n",
    "    }\n",
    "    print(paste(\"diversity curve is written to\", filepath))\n",
    "    plot(diversity)\n",
    "}\n",
    "computeDiversity <- function(abundancyCurve, name, debug) {\n",
    "    diversity <- alakazam::alphaDiversity(abundancyCurve)\n",
    "    writeAnalysisTable(diversity@diversity, build_filepath(name, \"diversity\", \"tsv\"))\n",
    "    plotDiversity(diversity, build_filepath(name, \"diversity\", \"png\"), debug)\n",
    "    return(diversity)\n",
    "}"
   ]
  },
  {
   "cell_type": "code",
   "execution_count": 36,
   "id": "4b595af4-b2c6-4baa-862d-f4d460166563",
   "metadata": {},
   "outputs": [
    {
     "name": "stdout",
     "output_type": "stream",
     "text": [
      "[1] \"Computing clonotypes counts\"\n",
      "[1] \"Output is written to S3987Nr1-PBMC_heavy_clone_counts.tsv\"\n",
      "[1] \"Attempted coverage computation with order=10; Encountered error: Error in alakazam::calcCoverage(counts$seq_count, order): Cannot calculate coverage of order 4. No abundance data with count=5.\\n; Attempting with order=9\"\n",
      "[1] \"Attempted coverage computation with order=9; Encountered error: Error in alakazam::calcCoverage(counts$seq_count, order): Cannot calculate coverage of order 4. No abundance data with count=5.\\n; Attempting with order=8\"\n",
      "[1] \"Attempted coverage computation with order=8; Encountered error: Error in alakazam::calcCoverage(counts$seq_count, order): Cannot calculate coverage of order 4. No abundance data with count=5.\\n; Attempting with order=7\"\n",
      "[1] \"Attempted coverage computation with order=7; Encountered error: Error in alakazam::calcCoverage(counts$seq_count, order): Cannot calculate coverage of order 4. No abundance data with count=5.\\n; Attempting with order=6\"\n",
      "[1] \"Attempted coverage computation with order=6; Encountered error: Error in alakazam::calcCoverage(counts$seq_count, order): Cannot calculate coverage of order 4. No abundance data with count=5.\\n; Attempting with order=5\"\n",
      "[1] \"Attempted coverage computation with order=5; Encountered error: Error in alakazam::calcCoverage(counts$seq_count, order): Cannot calculate coverage of order 4. No abundance data with count=5.\\n; Attempting with order=4\"\n",
      "[1] \"Attempted coverage computation with order=4; Encountered error: Error in alakazam::calcCoverage(counts$seq_count, order): Cannot calculate coverage of order 4. No abundance data with count=5.\\n; Attempting with order=3\"\n",
      "[1] \"Output is written to S3987Nr1-PBMC_heavy_coverages.tsv\"\n",
      "[1] \"Calculates abundancy with 95% confidence interval via 200 bootstrap realizations\"\n",
      "[1] \"Output is written to S3987Nr1-PBMC_heavy_abundance_curve.tsv\"\n",
      "[1] \"abundances curve chart is written to S3987Nr1-PBMC_heavy_abundancy_curve.png\"\n",
      "[1] \"Output is written to S3987Nr1-PBMC_heavy_diversity.tsv\"\n",
      "[1] \"diversity curve is written to S3987Nr1-PBMC_heavy_diversity.png\"\n"
     ]
    },
    {
     "data": {
      "image/png": "[encoded data removed]",
      "text/plain": [
       "plot without title"
      ]
     },
     "metadata": {
      "image/png": {
       "height": 420,
       "width": 420
      }
     },
     "output_type": "display_data"
    },
    {
     "data": {
      "image/png": "[encoded data removed]",
      "text/plain": [
       "plot without title"
      ]
     },
     "metadata": {
      "image/png": {
       "height": 420,
       "width": 420
      }
     },
     "output_type": "display_data"
    }
   ],
   "source": [
    "results <- alakazam::readChangeoDb(tsv)\n",
    "\n",
    "counts <- computeCloneCounts(results, name)\n",
    "computeCoverage(counts)\n",
    "abundanceCurve <- computeAbundancy(results, name, debug)\n",
    "diversity <- computeDiversity(abundanceCurve, name, debug)"
   ]
  },
  {
   "cell_type": "code",
   "execution_count": null,
   "id": "91e4fb97-12ab-48f9-bbab-984a96380713",
   "metadata": {},
   "outputs": [],
   "source": []
  }
 ],
 "metadata": {
  "kernelspec": {
   "display_name": "R",
   "language": "R",
   "name": "ir"
  },
  "language_info": {
   "codemirror_mode": "r",
   "file_extension": ".r",
   "mimetype": "text/x-r-source",
   "name": "R",
   "pygments_lexer": "r",
   "version": "4.0.5"
  }
 },
 "nbformat": 4,
 "nbformat_minor": 5
}
