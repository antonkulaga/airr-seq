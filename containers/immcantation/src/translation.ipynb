{
 "cells": [
  {
   "cell_type": "markdown",
   "id": "shared-modem",
   "metadata": {},
   "source": [
    "Translation\n",
    "===========\n",
    "This notebook is devoted to to researching amino-acid properties of our clonotypes"
   ]
  },
  {
   "cell_type": "markdown",
   "id": "asian-circus",
   "metadata": {},
   "source": [
    "The simplest way to do this is via alakazam::translateDNA in R:\n",
    "\n",
    "library(alakazam)\n",
    "db <- ExampleDb\n",
    "db$sequence_alignment_aa <- translateDNA(db$sequence_alignment)\n",
    "\n",
    "This will put a new column in db with the amino acid sequences, preserving the IMGT gaps. alakazam::translateDNA doesn’t really do anything special - it’s just a wrapper around seqinr::translate that adds some handling for the gaps (. and - characters), so you can use any translation function on sequence_alignment that can deal with gaps, because position 1 in sequence_alignment should be frame 1 w.r.t. the germline reference.\n",
    "\n"
   ]
  },
  {
   "cell_type": "code",
   "execution_count": 1,
   "id": "downtown-killer",
   "metadata": {},
   "outputs": [],
   "source": [
    "debug <- TRUE"
   ]
  },
  {
   "cell_type": "code",
   "execution_count": 2,
   "id": "green-internet",
   "metadata": {},
   "outputs": [],
   "source": [
    "include = function(pkg){\n",
    "  if(!suppressMessages(require(pkg, character.only = TRUE)))\n",
    "  install.packages(pkg, character.only = TRUE)\n",
    "  suppressMessages(library(pkg, pkg, character.only = TRUE))\n",
    "}"
   ]
  },
  {
   "cell_type": "code",
   "execution_count": 3,
   "id": "successful-benchmark",
   "metadata": {},
   "outputs": [],
   "source": [
    "include(\"docopt\")\n",
    "include(\"stringr\")\n",
    "include(\"alakazam\")"
   ]
  },
  {
   "cell_type": "code",
   "execution_count": 4,
   "id": "loved-family",
   "metadata": {},
   "outputs": [],
   "source": [
    "translate_db = function(db_path){\n",
    "    db <- readChangeoDb(db_path)\n",
    "    without_gaps <- gsub(\"...\", \"\", db$sequence_alignment, fixed=T)\n",
    "    return(translateDNA(without_gaps))\n",
    "}"
   ]
  },
  {
   "cell_type": "code",
   "execution_count": 5,
   "id": "rolled-vision",
   "metadata": {},
   "outputs": [],
   "source": [
    "with_translation = function(db_path){\n",
    "    db <- readChangeoDb(db_path)\n",
    "    without_gaps <- gsub(\"...\", \"\", db$sequence_alignment, fixed=T)    \n",
    "    return (cbind(db,Translation=translateDNA(without_gaps)))     \n",
    "}"
   ]
  },
  {
   "cell_type": "code",
   "execution_count": 6,
   "id": "offensive-carpet",
   "metadata": {},
   "outputs": [],
   "source": [
    "doc <- 'Usage:\n",
    "  translate.R [--wd <wd>][--suffix <suffix>] <dbs> ...\n",
    "\n",
    "  Options:   \n",
    "   -w --wd <wd> [default: TRUE]\n",
    "   -s --suffix <suffix> [default: _with_translation].\n",
    "   -h --help     Show this screen.'"
   ]
  },
  {
   "cell_type": "code",
   "execution_count": 7,
   "id": "naked-orange",
   "metadata": {},
   "outputs": [
    {
     "name": "stdout",
     "output_type": "stream",
     "text": [
      "[1] \"TRUE\"                                              \n",
      "[2] \"_with_translation\"                                 \n",
      "[3] \"/data/samples/AIRR-Seq/ramos/test/merged/heavy.tsv\"\n",
      "[4] \"/data/samples/AIRR-Seq/ramos/test/merged/light.tsv\"\n"
     ]
    }
   ],
   "source": [
    "if(debug == TRUE) {\n",
    "    ramos <- file.path(\"/data/samples/AIRR-Seq/ramos/test/merged\")\n",
    "    dbs <- file.path(ramos, c('heavy.tsv','light.tsv'))\n",
    "    args <- union(c(TRUE, \"_with_translation\"), dbs)\n",
    "    print(args)\n",
    "    values <- docopt(doc, args = args, version=\"0.1\")\n",
    "} else {\n",
    "    values <- docopt(doc, version=\"0.1\")\n",
    "}\n"
   ]
  },
  {
   "cell_type": "code",
   "execution_count": 8,
   "id": "downtown-diving",
   "metadata": {},
   "outputs": [
    {
     "name": "stdout",
     "output_type": "stream",
     "text": [
      "List of 8\n",
      " $ --wd    : chr \"TRUE\"\n",
      " $ --suffix: chr \"_with_translation\"\n",
      " $ --help  : logi FALSE\n",
      " $ <dbs>   : chr [1:4] \"TRUE\" \"_with_translation\" \"/data/samples/AIRR-Seq/ramos/test/merged/heavy.tsv\" \"/data/samples/AIRR-Seq/ramos/test/merged/light.tsv\"\n",
      " $ wd      : chr \"TRUE\"\n",
      " $ suffix  : chr \"_with_translation\"\n",
      " $ help    : logi FALSE\n",
      " $ dbs     : chr [1:4] \"TRUE\" \"_with_translation\" \"/data/samples/AIRR-Seq/ramos/test/merged/heavy.tsv\" \"/data/samples/AIRR-Seq/ramos/test/merged/light.tsv\"\n",
      "NULL\n"
     ]
    }
   ],
   "source": [
    "print(values)"
   ]
  },
  {
   "cell_type": "code",
   "execution_count": 9,
   "id": "falling-lawyer",
   "metadata": {},
   "outputs": [],
   "source": [
    "wd <- values$wd\n",
    "suffix <- values$suffix\n",
    "dbs_pathes <- values$dbs\n",
    "dbs_translated_pathes <- str_replace(dbs_pathes, \".tsv\", paste0(suffix,\".tsv\"))\n",
    "if(wd)\n",
    "    dbs_translated_pathes <-file.path(getwd(), basename(dbs_translated_pathes))"
   ]
  },
  {
   "cell_type": "code",
   "execution_count": 10,
   "id": "joint-venture",
   "metadata": {},
   "outputs": [
    {
     "name": "stdout",
     "output_type": "stream",
     "text": [
      "[1] \"extending c(\\\"/data/samples/AIRR-Seq/ramos/test/merged/heavy.tsv\\\", \\\"/data/samples/AIRR-Seq/ramos/test/merged/light.tsv\\\") with Translation column!\"\n"
     ]
    }
   ],
   "source": [
    "print(str_interp(\"extending ${dbs_pathes} with Translation column!\"))"
   ]
  },
  {
   "cell_type": "code",
   "execution_count": 11,
   "id": "mediterranean-andrew",
   "metadata": {},
   "outputs": [
    {
     "data": {
      "text/html": [
       "<style>\n",
       ".list-inline {list-style: none; margin:0; padding: 0}\n",
       ".list-inline>li {display: inline-block}\n",
       ".list-inline>li:not(:last-child)::after {content: \"\\00b7\"; padding: 0 .5ex}\n",
       "</style>\n",
       "<ol class=list-inline><li>'/data/samples/AIRR-Seq/ramos/test/merged/heavy.tsv'</li><li>'/data/samples/AIRR-Seq/ramos/test/merged/light.tsv'</li></ol>\n"
      ],
      "text/latex": [
       "\\begin{enumerate*}\n",
       "\\item '/data/samples/AIRR-Seq/ramos/test/merged/heavy.tsv'\n",
       "\\item '/data/samples/AIRR-Seq/ramos/test/merged/light.tsv'\n",
       "\\end{enumerate*}\n"
      ],
      "text/markdown": [
       "1. '/data/samples/AIRR-Seq/ramos/test/merged/heavy.tsv'\n",
       "2. '/data/samples/AIRR-Seq/ramos/test/merged/light.tsv'\n",
       "\n",
       "\n"
      ],
      "text/plain": [
       "[1] \"/data/samples/AIRR-Seq/ramos/test/merged/heavy.tsv\"\n",
       "[2] \"/data/samples/AIRR-Seq/ramos/test/merged/light.tsv\""
      ]
     },
     "metadata": {},
     "output_type": "display_data"
    }
   ],
   "source": [
    "dbs_pathes"
   ]
  },
  {
   "cell_type": "code",
   "execution_count": 12,
   "id": "through-prerequisite",
   "metadata": {},
   "outputs": [],
   "source": [
    "for(i in 1:length(dbs_pathes)){\n",
    "    path <- dbs_pathes[i]\n",
    "    path_with_translation <- dbs_translated_pathes[i]\n",
    "    db_with_translation <- with_translation(path)\n",
    "    writeChangeoDb(db_with_translation, path_with_translation)\n",
    "}"
   ]
  },
  {
   "cell_type": "code",
   "execution_count": 13,
   "id": "incomplete-placement",
   "metadata": {},
   "outputs": [
    {
     "data": {
      "text/html": [
       "<style>\n",
       ".list-inline {list-style: none; margin:0; padding: 0}\n",
       ".list-inline>li {display: inline-block}\n",
       ".list-inline>li:not(:last-child)::after {content: \"\\00b7\"; padding: 0 .5ex}\n",
       "</style>\n",
       "<ol class=list-inline><li>'heavy_with_translation.tsv'</li><li>'light_with_translation.tsv'</li><li>'translate.R'</li><li>'translation.ipynb'</li></ol>\n"
      ],
      "text/latex": [
       "\\begin{enumerate*}\n",
       "\\item 'heavy\\_with\\_translation.tsv'\n",
       "\\item 'light\\_with\\_translation.tsv'\n",
       "\\item 'translate.R'\n",
       "\\item 'translation.ipynb'\n",
       "\\end{enumerate*}\n"
      ],
      "text/markdown": [
       "1. 'heavy_with_translation.tsv'\n",
       "2. 'light_with_translation.tsv'\n",
       "3. 'translate.R'\n",
       "4. 'translation.ipynb'\n",
       "\n",
       "\n"
      ],
      "text/plain": [
       "[1] \"heavy_with_translation.tsv\" \"light_with_translation.tsv\"\n",
       "[3] \"translate.R\"                \"translation.ipynb\"         "
      ]
     },
     "metadata": {},
     "output_type": "display_data"
    }
   ],
   "source": [
    "list.files(getwd())"
   ]
  },
  {
   "cell_type": "code",
   "execution_count": 14,
   "id": "facial-group",
   "metadata": {},
   "outputs": [
    {
     "name": "stdout",
     "output_type": "stream",
     "text": [
      "[1] \"Saving files to working directory...\"\n",
      "[1] \"Execution successfully finished, file are saved as c(\\\"/home/magus/notebooks/src/heavy_with_translation.tsv\\\", \\\"/home/magus/notebooks/src/light_with_translation.tsv\\\")\"\n"
     ]
    }
   ],
   "source": [
    "if(wd == TRUE){\n",
    "    print(\"Saving files to working directory...\")\n",
    "}\n",
    "print(str_interp(\"Execution successfully finished, file are saved as ${dbs_translated_pathes}\"))"
   ]
  }
 ],
 "metadata": {
  "kernelspec": {
   "display_name": "R",
   "language": "R",
   "name": "ir"
  },
  "language_info": {
   "codemirror_mode": "r",
   "file_extension": ".r",
   "mimetype": "text/x-r-source",
   "name": "R",
   "pygments_lexer": "r",
   "version": "4.0.3"
  }
 },
 "nbformat": 4,
 "nbformat_minor": 5
}
