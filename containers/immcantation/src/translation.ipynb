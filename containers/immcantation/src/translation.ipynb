{
 "cells": [
  {
   "cell_type": "markdown",
   "id": "anticipated-teens",
   "metadata": {},
   "source": [
    "Translation\n",
    "===========\n",
    "This notebook is devoted to to researching amino-acid properties of our clonotypes"
   ]
  },
  {
   "cell_type": "markdown",
   "id": "occupied-office",
   "metadata": {},
   "source": [
    "The simplest way to do this is via alakazam::translateDNA in R:\n",
    "\n",
    "library(alakazam)\n",
    "db <- ExampleDb\n",
    "db$sequence_alignment_aa <- translateDNA(db$sequence_alignment)\n",
    "\n",
    "This will put a new column in db with the amino acid sequences, preserving the IMGT gaps. alakazam::translateDNA doesn’t really do anything special - it’s just a wrapper around seqinr::translate that adds some handling for the gaps (. and - characters), so you can use any translation function on sequence_alignment that can deal with gaps, because position 1 in sequence_alignment should be frame 1 w.r.t. the germline reference.\n",
    "\n"
   ]
  },
  {
   "cell_type": "code",
   "execution_count": 4,
   "id": "framed-german",
   "metadata": {},
   "outputs": [],
   "source": [
    "library(alakazam)"
   ]
  },
  {
   "cell_type": "code",
   "execution_count": 7,
   "id": "broadband-shopper",
   "metadata": {},
   "outputs": [
    {
     "data": {
      "text/html": [
       "<style>\n",
       ".list-inline {list-style: none; margin:0; padding: 0}\n",
       ".list-inline>li {display: inline-block}\n",
       ".list-inline>li:not(:last-child)::after {content: \"\\00b7\"; padding: 0 .5ex}\n",
       "</style>\n",
       "<ol class=list-inline><li>'failed_ramos_alignments_airr.tsv'</li><li>'passed_germline.tsv'</li><li>'passed_ramos_alignments_airr.tsv'</li><li>'ramos.1001_contigs_nanopolish.1001.fa'</li><li>'ramos.1006_contigs_nanopolish.1006.fa'</li><li>'ramos.1023_contigs_nanopolish.1023.fa'</li><li>'ramos.1052_contigs_nanopolish.1052.fa'</li><li>'ramos.1082_contigs_nanopolish.1082.fa'</li><li>'ramos.1218_contigs_nanopolish.1218.fa'</li><li>'ramos.1301_contigs_nanopolish.1301.fa'</li><li>'ramos.1307_contigs_nanopolish.1307.fa'</li><li>'ramos.1472_contigs_nanopolish.1472.fa'</li><li>'ramos.1493_contigs_nanopolish.1493.fa'</li><li>'ramos.153_contigs_nanopolish.153.fa'</li><li>'ramos.1555_contigs_nanopolish.1555.fa'</li><li>'ramos.1611_contigs_nanopolish.1611.fa'</li><li>'ramos.1643_contigs_nanopolish.1643.fa'</li><li>'ramos.1687_contigs_nanopolish.1687.fa'</li><li>'ramos.186_contigs_nanopolish.186.fa'</li><li>'ramos.1890_contigs_nanopolish.1890.fa'</li><li>'ramos.1925_contigs_nanopolish.1925.fa'</li><li>'ramos.2008_contigs_nanopolish.2008.fa'</li><li>'ramos.203_contigs_nanopolish.203.fa'</li><li>'ramos.2099_contigs_nanopolish.2099.fa'</li><li>'ramos.2100_contigs_nanopolish.2100.fa'</li><li>'ramos.211_contigs_nanopolish.211.fa'</li><li>'ramos.2287_contigs_nanopolish.2287.fa'</li><li>'ramos.2455_contigs_nanopolish.2455.fa'</li><li>'ramos.2488_contigs_nanopolish.2488.fa'</li><li>'ramos.2522_contigs_nanopolish.2522.fa'</li><li>'ramos.260_contigs_nanopolish.260.fa'</li><li>'ramos.2627_contigs_nanopolish.2627.fa'</li><li>'ramos.270_contigs_nanopolish.270.fa'</li><li>'ramos.2719_contigs_nanopolish.2719.fa'</li><li>'ramos.2795_contigs_nanopolish.2795.fa'</li><li>'ramos.279_contigs_nanopolish.279.fa'</li><li>'ramos.27_contigs_nanopolish.27.fa'</li><li>'ramos.2867_contigs_nanopolish.2867.fa'</li><li>'ramos.2885_contigs_nanopolish.2885.fa'</li><li>'ramos.2896_contigs_nanopolish.2896.fa'</li><li>'ramos.3039_contigs_nanopolish.3039.fa'</li><li>'ramos.3084_contigs_nanopolish.3084.fa'</li><li>'ramos.3095_contigs_nanopolish.3095.fa'</li><li>'ramos.3178_contigs_nanopolish.3178.fa'</li><li>'ramos.3182_contigs_nanopolish.3182.fa'</li><li>'ramos.3225_contigs_nanopolish.3225.fa'</li><li>'ramos.3229_contigs_nanopolish.3229.fa'</li><li>'ramos.3267_contigs_nanopolish.3267.fa'</li><li>'ramos.3272_contigs_nanopolish.3272.fa'</li><li>'ramos.3289_contigs_nanopolish.3289.fa'</li><li>'ramos.3357_contigs_nanopolish.3357.fa'</li><li>'ramos.3389_contigs_nanopolish.3389.fa'</li><li>'ramos.3418_contigs_nanopolish.3418.fa'</li><li>'ramos.3444_contigs_nanopolish.3444.fa'</li><li>'ramos.3449_contigs_nanopolish.3449.fa'</li><li>'ramos.3503_contigs_nanopolish.3503.fa'</li><li>'ramos.350_contigs_nanopolish.350.fa'</li><li>'ramos.359_contigs_nanopolish.359.fa'</li><li>'ramos.3615_contigs_nanopolish.3615.fa'</li><li>'ramos.3643_contigs_nanopolish.3643.fa'</li><li>'ramos.3672_contigs_nanopolish.3672.fa'</li><li>'ramos.3822_contigs_nanopolish.3822.fa'</li><li>'ramos.3865_contigs_nanopolish.3865.fa'</li><li>'ramos.3939_contigs_nanopolish.3939.fa'</li><li>'ramos.399_contigs_nanopolish.399.fa'</li><li>'ramos.3_contigs_nanopolish.3.fa'</li><li>'ramos.4025_contigs_nanopolish.4025.fa'</li><li>'ramos.404_contigs_nanopolish.404.fa'</li><li>'ramos.4119_contigs_nanopolish.4119.fa'</li><li>'ramos.4156_contigs_nanopolish.4156.fa'</li><li>'ramos.4220_contigs_nanopolish.4220.fa'</li><li>'ramos.4264_contigs_nanopolish.4264.fa'</li><li>'ramos.4344_contigs_nanopolish.4344.fa'</li><li>'ramos.4362_contigs_nanopolish.4362.fa'</li><li>'ramos.4411_contigs_nanopolish.4411.fa'</li><li>'ramos.4417_contigs_nanopolish.4417.fa'</li><li>'ramos.4436_contigs_nanopolish.4436.fa'</li><li>'ramos.4504_contigs_nanopolish.4504.fa'</li><li>'ramos.4508_contigs_nanopolish.4508.fa'</li><li>'ramos.455_contigs_nanopolish.455.fa'</li><li>'ramos.4568_contigs_nanopolish.4568.fa'</li><li>'ramos.4589_contigs_nanopolish.4589.fa'</li><li>'ramos.4635_contigs_nanopolish.4635.fa'</li><li>'ramos.4721_contigs_nanopolish.4721.fa'</li><li>'ramos.4758_contigs_nanopolish.4758.fa'</li><li>'ramos.4825_contigs_nanopolish.4825.fa'</li><li>'ramos.4_contigs_nanopolish.4.fa'</li><li>'ramos.5072_contigs_nanopolish.5072.fa'</li><li>'ramos.5188_contigs_nanopolish.5188.fa'</li><li>'ramos.5325_contigs_nanopolish.5325.fa'</li><li>'ramos.5451_contigs_nanopolish.5451.fa'</li><li>'ramos.5499_contigs_nanopolish.5499.fa'</li><li>'ramos.5547_contigs_nanopolish.5547.fa'</li><li>'ramos.57_contigs_nanopolish.57.fa'</li><li>'ramos.604_contigs_nanopolish.604.fa'</li><li>'ramos.626_contigs_nanopolish.626.fa'</li><li>'ramos.652_contigs_nanopolish.652.fa'</li><li>'ramos.677_contigs_nanopolish.677.fa'</li><li>'ramos.701_contigs_nanopolish.701.fa'</li><li>'ramos.705_contigs_nanopolish.705.fa'</li><li>'ramos.745_contigs_nanopolish.745.fa'</li><li>'ramos.760_contigs_nanopolish.760.fa'</li><li>'ramos.787_contigs_nanopolish.787.fa'</li><li>'ramos.845_contigs_nanopolish.845.fa'</li><li>'ramos.849_contigs_nanopolish.849.fa'</li><li>'ramos.901_contigs_nanopolish.901.fa'</li><li>'ramos.902_contigs_nanopolish.902.fa'</li><li>'ramos.973_contigs_nanopolish.973.fa'</li></ol>\n"
      ],
      "text/latex": [
       "\\begin{enumerate*}\n",
       "\\item 'failed\\_ramos\\_alignments\\_airr.tsv'\n",
       "\\item 'passed\\_germline.tsv'\n",
       "\\item 'passed\\_ramos\\_alignments\\_airr.tsv'\n",
       "\\item 'ramos.1001\\_contigs\\_nanopolish.1001.fa'\n",
       "\\item 'ramos.1006\\_contigs\\_nanopolish.1006.fa'\n",
       "\\item 'ramos.1023\\_contigs\\_nanopolish.1023.fa'\n",
       "\\item 'ramos.1052\\_contigs\\_nanopolish.1052.fa'\n",
       "\\item 'ramos.1082\\_contigs\\_nanopolish.1082.fa'\n",
       "\\item 'ramos.1218\\_contigs\\_nanopolish.1218.fa'\n",
       "\\item 'ramos.1301\\_contigs\\_nanopolish.1301.fa'\n",
       "\\item 'ramos.1307\\_contigs\\_nanopolish.1307.fa'\n",
       "\\item 'ramos.1472\\_contigs\\_nanopolish.1472.fa'\n",
       "\\item 'ramos.1493\\_contigs\\_nanopolish.1493.fa'\n",
       "\\item 'ramos.153\\_contigs\\_nanopolish.153.fa'\n",
       "\\item 'ramos.1555\\_contigs\\_nanopolish.1555.fa'\n",
       "\\item 'ramos.1611\\_contigs\\_nanopolish.1611.fa'\n",
       "\\item 'ramos.1643\\_contigs\\_nanopolish.1643.fa'\n",
       "\\item 'ramos.1687\\_contigs\\_nanopolish.1687.fa'\n",
       "\\item 'ramos.186\\_contigs\\_nanopolish.186.fa'\n",
       "\\item 'ramos.1890\\_contigs\\_nanopolish.1890.fa'\n",
       "\\item 'ramos.1925\\_contigs\\_nanopolish.1925.fa'\n",
       "\\item 'ramos.2008\\_contigs\\_nanopolish.2008.fa'\n",
       "\\item 'ramos.203\\_contigs\\_nanopolish.203.fa'\n",
       "\\item 'ramos.2099\\_contigs\\_nanopolish.2099.fa'\n",
       "\\item 'ramos.2100\\_contigs\\_nanopolish.2100.fa'\n",
       "\\item 'ramos.211\\_contigs\\_nanopolish.211.fa'\n",
       "\\item 'ramos.2287\\_contigs\\_nanopolish.2287.fa'\n",
       "\\item 'ramos.2455\\_contigs\\_nanopolish.2455.fa'\n",
       "\\item 'ramos.2488\\_contigs\\_nanopolish.2488.fa'\n",
       "\\item 'ramos.2522\\_contigs\\_nanopolish.2522.fa'\n",
       "\\item 'ramos.260\\_contigs\\_nanopolish.260.fa'\n",
       "\\item 'ramos.2627\\_contigs\\_nanopolish.2627.fa'\n",
       "\\item 'ramos.270\\_contigs\\_nanopolish.270.fa'\n",
       "\\item 'ramos.2719\\_contigs\\_nanopolish.2719.fa'\n",
       "\\item 'ramos.2795\\_contigs\\_nanopolish.2795.fa'\n",
       "\\item 'ramos.279\\_contigs\\_nanopolish.279.fa'\n",
       "\\item 'ramos.27\\_contigs\\_nanopolish.27.fa'\n",
       "\\item 'ramos.2867\\_contigs\\_nanopolish.2867.fa'\n",
       "\\item 'ramos.2885\\_contigs\\_nanopolish.2885.fa'\n",
       "\\item 'ramos.2896\\_contigs\\_nanopolish.2896.fa'\n",
       "\\item 'ramos.3039\\_contigs\\_nanopolish.3039.fa'\n",
       "\\item 'ramos.3084\\_contigs\\_nanopolish.3084.fa'\n",
       "\\item 'ramos.3095\\_contigs\\_nanopolish.3095.fa'\n",
       "\\item 'ramos.3178\\_contigs\\_nanopolish.3178.fa'\n",
       "\\item 'ramos.3182\\_contigs\\_nanopolish.3182.fa'\n",
       "\\item 'ramos.3225\\_contigs\\_nanopolish.3225.fa'\n",
       "\\item 'ramos.3229\\_contigs\\_nanopolish.3229.fa'\n",
       "\\item 'ramos.3267\\_contigs\\_nanopolish.3267.fa'\n",
       "\\item 'ramos.3272\\_contigs\\_nanopolish.3272.fa'\n",
       "\\item 'ramos.3289\\_contigs\\_nanopolish.3289.fa'\n",
       "\\item 'ramos.3357\\_contigs\\_nanopolish.3357.fa'\n",
       "\\item 'ramos.3389\\_contigs\\_nanopolish.3389.fa'\n",
       "\\item 'ramos.3418\\_contigs\\_nanopolish.3418.fa'\n",
       "\\item 'ramos.3444\\_contigs\\_nanopolish.3444.fa'\n",
       "\\item 'ramos.3449\\_contigs\\_nanopolish.3449.fa'\n",
       "\\item 'ramos.3503\\_contigs\\_nanopolish.3503.fa'\n",
       "\\item 'ramos.350\\_contigs\\_nanopolish.350.fa'\n",
       "\\item 'ramos.359\\_contigs\\_nanopolish.359.fa'\n",
       "\\item 'ramos.3615\\_contigs\\_nanopolish.3615.fa'\n",
       "\\item 'ramos.3643\\_contigs\\_nanopolish.3643.fa'\n",
       "\\item 'ramos.3672\\_contigs\\_nanopolish.3672.fa'\n",
       "\\item 'ramos.3822\\_contigs\\_nanopolish.3822.fa'\n",
       "\\item 'ramos.3865\\_contigs\\_nanopolish.3865.fa'\n",
       "\\item 'ramos.3939\\_contigs\\_nanopolish.3939.fa'\n",
       "\\item 'ramos.399\\_contigs\\_nanopolish.399.fa'\n",
       "\\item 'ramos.3\\_contigs\\_nanopolish.3.fa'\n",
       "\\item 'ramos.4025\\_contigs\\_nanopolish.4025.fa'\n",
       "\\item 'ramos.404\\_contigs\\_nanopolish.404.fa'\n",
       "\\item 'ramos.4119\\_contigs\\_nanopolish.4119.fa'\n",
       "\\item 'ramos.4156\\_contigs\\_nanopolish.4156.fa'\n",
       "\\item 'ramos.4220\\_contigs\\_nanopolish.4220.fa'\n",
       "\\item 'ramos.4264\\_contigs\\_nanopolish.4264.fa'\n",
       "\\item 'ramos.4344\\_contigs\\_nanopolish.4344.fa'\n",
       "\\item 'ramos.4362\\_contigs\\_nanopolish.4362.fa'\n",
       "\\item 'ramos.4411\\_contigs\\_nanopolish.4411.fa'\n",
       "\\item 'ramos.4417\\_contigs\\_nanopolish.4417.fa'\n",
       "\\item 'ramos.4436\\_contigs\\_nanopolish.4436.fa'\n",
       "\\item 'ramos.4504\\_contigs\\_nanopolish.4504.fa'\n",
       "\\item 'ramos.4508\\_contigs\\_nanopolish.4508.fa'\n",
       "\\item 'ramos.455\\_contigs\\_nanopolish.455.fa'\n",
       "\\item 'ramos.4568\\_contigs\\_nanopolish.4568.fa'\n",
       "\\item 'ramos.4589\\_contigs\\_nanopolish.4589.fa'\n",
       "\\item 'ramos.4635\\_contigs\\_nanopolish.4635.fa'\n",
       "\\item 'ramos.4721\\_contigs\\_nanopolish.4721.fa'\n",
       "\\item 'ramos.4758\\_contigs\\_nanopolish.4758.fa'\n",
       "\\item 'ramos.4825\\_contigs\\_nanopolish.4825.fa'\n",
       "\\item 'ramos.4\\_contigs\\_nanopolish.4.fa'\n",
       "\\item 'ramos.5072\\_contigs\\_nanopolish.5072.fa'\n",
       "\\item 'ramos.5188\\_contigs\\_nanopolish.5188.fa'\n",
       "\\item 'ramos.5325\\_contigs\\_nanopolish.5325.fa'\n",
       "\\item 'ramos.5451\\_contigs\\_nanopolish.5451.fa'\n",
       "\\item 'ramos.5499\\_contigs\\_nanopolish.5499.fa'\n",
       "\\item 'ramos.5547\\_contigs\\_nanopolish.5547.fa'\n",
       "\\item 'ramos.57\\_contigs\\_nanopolish.57.fa'\n",
       "\\item 'ramos.604\\_contigs\\_nanopolish.604.fa'\n",
       "\\item 'ramos.626\\_contigs\\_nanopolish.626.fa'\n",
       "\\item 'ramos.652\\_contigs\\_nanopolish.652.fa'\n",
       "\\item 'ramos.677\\_contigs\\_nanopolish.677.fa'\n",
       "\\item 'ramos.701\\_contigs\\_nanopolish.701.fa'\n",
       "\\item 'ramos.705\\_contigs\\_nanopolish.705.fa'\n",
       "\\item 'ramos.745\\_contigs\\_nanopolish.745.fa'\n",
       "\\item 'ramos.760\\_contigs\\_nanopolish.760.fa'\n",
       "\\item 'ramos.787\\_contigs\\_nanopolish.787.fa'\n",
       "\\item 'ramos.845\\_contigs\\_nanopolish.845.fa'\n",
       "\\item 'ramos.849\\_contigs\\_nanopolish.849.fa'\n",
       "\\item 'ramos.901\\_contigs\\_nanopolish.901.fa'\n",
       "\\item 'ramos.902\\_contigs\\_nanopolish.902.fa'\n",
       "\\item 'ramos.973\\_contigs\\_nanopolish.973.fa'\n",
       "\\end{enumerate*}\n"
      ],
      "text/markdown": [
       "1. 'failed_ramos_alignments_airr.tsv'\n",
       "2. 'passed_germline.tsv'\n",
       "3. 'passed_ramos_alignments_airr.tsv'\n",
       "4. 'ramos.1001_contigs_nanopolish.1001.fa'\n",
       "5. 'ramos.1006_contigs_nanopolish.1006.fa'\n",
       "6. 'ramos.1023_contigs_nanopolish.1023.fa'\n",
       "7. 'ramos.1052_contigs_nanopolish.1052.fa'\n",
       "8. 'ramos.1082_contigs_nanopolish.1082.fa'\n",
       "9. 'ramos.1218_contigs_nanopolish.1218.fa'\n",
       "10. 'ramos.1301_contigs_nanopolish.1301.fa'\n",
       "11. 'ramos.1307_contigs_nanopolish.1307.fa'\n",
       "12. 'ramos.1472_contigs_nanopolish.1472.fa'\n",
       "13. 'ramos.1493_contigs_nanopolish.1493.fa'\n",
       "14. 'ramos.153_contigs_nanopolish.153.fa'\n",
       "15. 'ramos.1555_contigs_nanopolish.1555.fa'\n",
       "16. 'ramos.1611_contigs_nanopolish.1611.fa'\n",
       "17. 'ramos.1643_contigs_nanopolish.1643.fa'\n",
       "18. 'ramos.1687_contigs_nanopolish.1687.fa'\n",
       "19. 'ramos.186_contigs_nanopolish.186.fa'\n",
       "20. 'ramos.1890_contigs_nanopolish.1890.fa'\n",
       "21. 'ramos.1925_contigs_nanopolish.1925.fa'\n",
       "22. 'ramos.2008_contigs_nanopolish.2008.fa'\n",
       "23. 'ramos.203_contigs_nanopolish.203.fa'\n",
       "24. 'ramos.2099_contigs_nanopolish.2099.fa'\n",
       "25. 'ramos.2100_contigs_nanopolish.2100.fa'\n",
       "26. 'ramos.211_contigs_nanopolish.211.fa'\n",
       "27. 'ramos.2287_contigs_nanopolish.2287.fa'\n",
       "28. 'ramos.2455_contigs_nanopolish.2455.fa'\n",
       "29. 'ramos.2488_contigs_nanopolish.2488.fa'\n",
       "30. 'ramos.2522_contigs_nanopolish.2522.fa'\n",
       "31. 'ramos.260_contigs_nanopolish.260.fa'\n",
       "32. 'ramos.2627_contigs_nanopolish.2627.fa'\n",
       "33. 'ramos.270_contigs_nanopolish.270.fa'\n",
       "34. 'ramos.2719_contigs_nanopolish.2719.fa'\n",
       "35. 'ramos.2795_contigs_nanopolish.2795.fa'\n",
       "36. 'ramos.279_contigs_nanopolish.279.fa'\n",
       "37. 'ramos.27_contigs_nanopolish.27.fa'\n",
       "38. 'ramos.2867_contigs_nanopolish.2867.fa'\n",
       "39. 'ramos.2885_contigs_nanopolish.2885.fa'\n",
       "40. 'ramos.2896_contigs_nanopolish.2896.fa'\n",
       "41. 'ramos.3039_contigs_nanopolish.3039.fa'\n",
       "42. 'ramos.3084_contigs_nanopolish.3084.fa'\n",
       "43. 'ramos.3095_contigs_nanopolish.3095.fa'\n",
       "44. 'ramos.3178_contigs_nanopolish.3178.fa'\n",
       "45. 'ramos.3182_contigs_nanopolish.3182.fa'\n",
       "46. 'ramos.3225_contigs_nanopolish.3225.fa'\n",
       "47. 'ramos.3229_contigs_nanopolish.3229.fa'\n",
       "48. 'ramos.3267_contigs_nanopolish.3267.fa'\n",
       "49. 'ramos.3272_contigs_nanopolish.3272.fa'\n",
       "50. 'ramos.3289_contigs_nanopolish.3289.fa'\n",
       "51. 'ramos.3357_contigs_nanopolish.3357.fa'\n",
       "52. 'ramos.3389_contigs_nanopolish.3389.fa'\n",
       "53. 'ramos.3418_contigs_nanopolish.3418.fa'\n",
       "54. 'ramos.3444_contigs_nanopolish.3444.fa'\n",
       "55. 'ramos.3449_contigs_nanopolish.3449.fa'\n",
       "56. 'ramos.3503_contigs_nanopolish.3503.fa'\n",
       "57. 'ramos.350_contigs_nanopolish.350.fa'\n",
       "58. 'ramos.359_contigs_nanopolish.359.fa'\n",
       "59. 'ramos.3615_contigs_nanopolish.3615.fa'\n",
       "60. 'ramos.3643_contigs_nanopolish.3643.fa'\n",
       "61. 'ramos.3672_contigs_nanopolish.3672.fa'\n",
       "62. 'ramos.3822_contigs_nanopolish.3822.fa'\n",
       "63. 'ramos.3865_contigs_nanopolish.3865.fa'\n",
       "64. 'ramos.3939_contigs_nanopolish.3939.fa'\n",
       "65. 'ramos.399_contigs_nanopolish.399.fa'\n",
       "66. 'ramos.3_contigs_nanopolish.3.fa'\n",
       "67. 'ramos.4025_contigs_nanopolish.4025.fa'\n",
       "68. 'ramos.404_contigs_nanopolish.404.fa'\n",
       "69. 'ramos.4119_contigs_nanopolish.4119.fa'\n",
       "70. 'ramos.4156_contigs_nanopolish.4156.fa'\n",
       "71. 'ramos.4220_contigs_nanopolish.4220.fa'\n",
       "72. 'ramos.4264_contigs_nanopolish.4264.fa'\n",
       "73. 'ramos.4344_contigs_nanopolish.4344.fa'\n",
       "74. 'ramos.4362_contigs_nanopolish.4362.fa'\n",
       "75. 'ramos.4411_contigs_nanopolish.4411.fa'\n",
       "76. 'ramos.4417_contigs_nanopolish.4417.fa'\n",
       "77. 'ramos.4436_contigs_nanopolish.4436.fa'\n",
       "78. 'ramos.4504_contigs_nanopolish.4504.fa'\n",
       "79. 'ramos.4508_contigs_nanopolish.4508.fa'\n",
       "80. 'ramos.455_contigs_nanopolish.455.fa'\n",
       "81. 'ramos.4568_contigs_nanopolish.4568.fa'\n",
       "82. 'ramos.4589_contigs_nanopolish.4589.fa'\n",
       "83. 'ramos.4635_contigs_nanopolish.4635.fa'\n",
       "84. 'ramos.4721_contigs_nanopolish.4721.fa'\n",
       "85. 'ramos.4758_contigs_nanopolish.4758.fa'\n",
       "86. 'ramos.4825_contigs_nanopolish.4825.fa'\n",
       "87. 'ramos.4_contigs_nanopolish.4.fa'\n",
       "88. 'ramos.5072_contigs_nanopolish.5072.fa'\n",
       "89. 'ramos.5188_contigs_nanopolish.5188.fa'\n",
       "90. 'ramos.5325_contigs_nanopolish.5325.fa'\n",
       "91. 'ramos.5451_contigs_nanopolish.5451.fa'\n",
       "92. 'ramos.5499_contigs_nanopolish.5499.fa'\n",
       "93. 'ramos.5547_contigs_nanopolish.5547.fa'\n",
       "94. 'ramos.57_contigs_nanopolish.57.fa'\n",
       "95. 'ramos.604_contigs_nanopolish.604.fa'\n",
       "96. 'ramos.626_contigs_nanopolish.626.fa'\n",
       "97. 'ramos.652_contigs_nanopolish.652.fa'\n",
       "98. 'ramos.677_contigs_nanopolish.677.fa'\n",
       "99. 'ramos.701_contigs_nanopolish.701.fa'\n",
       "100. 'ramos.705_contigs_nanopolish.705.fa'\n",
       "101. 'ramos.745_contigs_nanopolish.745.fa'\n",
       "102. 'ramos.760_contigs_nanopolish.760.fa'\n",
       "103. 'ramos.787_contigs_nanopolish.787.fa'\n",
       "104. 'ramos.845_contigs_nanopolish.845.fa'\n",
       "105. 'ramos.849_contigs_nanopolish.849.fa'\n",
       "106. 'ramos.901_contigs_nanopolish.901.fa'\n",
       "107. 'ramos.902_contigs_nanopolish.902.fa'\n",
       "108. 'ramos.973_contigs_nanopolish.973.fa'\n",
       "\n",
       "\n"
      ],
      "text/plain": [
       "  [1] \"failed_ramos_alignments_airr.tsv\"     \n",
       "  [2] \"passed_germline.tsv\"                  \n",
       "  [3] \"passed_ramos_alignments_airr.tsv\"     \n",
       "  [4] \"ramos.1001_contigs_nanopolish.1001.fa\"\n",
       "  [5] \"ramos.1006_contigs_nanopolish.1006.fa\"\n",
       "  [6] \"ramos.1023_contigs_nanopolish.1023.fa\"\n",
       "  [7] \"ramos.1052_contigs_nanopolish.1052.fa\"\n",
       "  [8] \"ramos.1082_contigs_nanopolish.1082.fa\"\n",
       "  [9] \"ramos.1218_contigs_nanopolish.1218.fa\"\n",
       " [10] \"ramos.1301_contigs_nanopolish.1301.fa\"\n",
       " [11] \"ramos.1307_contigs_nanopolish.1307.fa\"\n",
       " [12] \"ramos.1472_contigs_nanopolish.1472.fa\"\n",
       " [13] \"ramos.1493_contigs_nanopolish.1493.fa\"\n",
       " [14] \"ramos.153_contigs_nanopolish.153.fa\"  \n",
       " [15] \"ramos.1555_contigs_nanopolish.1555.fa\"\n",
       " [16] \"ramos.1611_contigs_nanopolish.1611.fa\"\n",
       " [17] \"ramos.1643_contigs_nanopolish.1643.fa\"\n",
       " [18] \"ramos.1687_contigs_nanopolish.1687.fa\"\n",
       " [19] \"ramos.186_contigs_nanopolish.186.fa\"  \n",
       " [20] \"ramos.1890_contigs_nanopolish.1890.fa\"\n",
       " [21] \"ramos.1925_contigs_nanopolish.1925.fa\"\n",
       " [22] \"ramos.2008_contigs_nanopolish.2008.fa\"\n",
       " [23] \"ramos.203_contigs_nanopolish.203.fa\"  \n",
       " [24] \"ramos.2099_contigs_nanopolish.2099.fa\"\n",
       " [25] \"ramos.2100_contigs_nanopolish.2100.fa\"\n",
       " [26] \"ramos.211_contigs_nanopolish.211.fa\"  \n",
       " [27] \"ramos.2287_contigs_nanopolish.2287.fa\"\n",
       " [28] \"ramos.2455_contigs_nanopolish.2455.fa\"\n",
       " [29] \"ramos.2488_contigs_nanopolish.2488.fa\"\n",
       " [30] \"ramos.2522_contigs_nanopolish.2522.fa\"\n",
       " [31] \"ramos.260_contigs_nanopolish.260.fa\"  \n",
       " [32] \"ramos.2627_contigs_nanopolish.2627.fa\"\n",
       " [33] \"ramos.270_contigs_nanopolish.270.fa\"  \n",
       " [34] \"ramos.2719_contigs_nanopolish.2719.fa\"\n",
       " [35] \"ramos.2795_contigs_nanopolish.2795.fa\"\n",
       " [36] \"ramos.279_contigs_nanopolish.279.fa\"  \n",
       " [37] \"ramos.27_contigs_nanopolish.27.fa\"    \n",
       " [38] \"ramos.2867_contigs_nanopolish.2867.fa\"\n",
       " [39] \"ramos.2885_contigs_nanopolish.2885.fa\"\n",
       " [40] \"ramos.2896_contigs_nanopolish.2896.fa\"\n",
       " [41] \"ramos.3039_contigs_nanopolish.3039.fa\"\n",
       " [42] \"ramos.3084_contigs_nanopolish.3084.fa\"\n",
       " [43] \"ramos.3095_contigs_nanopolish.3095.fa\"\n",
       " [44] \"ramos.3178_contigs_nanopolish.3178.fa\"\n",
       " [45] \"ramos.3182_contigs_nanopolish.3182.fa\"\n",
       " [46] \"ramos.3225_contigs_nanopolish.3225.fa\"\n",
       " [47] \"ramos.3229_contigs_nanopolish.3229.fa\"\n",
       " [48] \"ramos.3267_contigs_nanopolish.3267.fa\"\n",
       " [49] \"ramos.3272_contigs_nanopolish.3272.fa\"\n",
       " [50] \"ramos.3289_contigs_nanopolish.3289.fa\"\n",
       " [51] \"ramos.3357_contigs_nanopolish.3357.fa\"\n",
       " [52] \"ramos.3389_contigs_nanopolish.3389.fa\"\n",
       " [53] \"ramos.3418_contigs_nanopolish.3418.fa\"\n",
       " [54] \"ramos.3444_contigs_nanopolish.3444.fa\"\n",
       " [55] \"ramos.3449_contigs_nanopolish.3449.fa\"\n",
       " [56] \"ramos.3503_contigs_nanopolish.3503.fa\"\n",
       " [57] \"ramos.350_contigs_nanopolish.350.fa\"  \n",
       " [58] \"ramos.359_contigs_nanopolish.359.fa\"  \n",
       " [59] \"ramos.3615_contigs_nanopolish.3615.fa\"\n",
       " [60] \"ramos.3643_contigs_nanopolish.3643.fa\"\n",
       " [61] \"ramos.3672_contigs_nanopolish.3672.fa\"\n",
       " [62] \"ramos.3822_contigs_nanopolish.3822.fa\"\n",
       " [63] \"ramos.3865_contigs_nanopolish.3865.fa\"\n",
       " [64] \"ramos.3939_contigs_nanopolish.3939.fa\"\n",
       " [65] \"ramos.399_contigs_nanopolish.399.fa\"  \n",
       " [66] \"ramos.3_contigs_nanopolish.3.fa\"      \n",
       " [67] \"ramos.4025_contigs_nanopolish.4025.fa\"\n",
       " [68] \"ramos.404_contigs_nanopolish.404.fa\"  \n",
       " [69] \"ramos.4119_contigs_nanopolish.4119.fa\"\n",
       " [70] \"ramos.4156_contigs_nanopolish.4156.fa\"\n",
       " [71] \"ramos.4220_contigs_nanopolish.4220.fa\"\n",
       " [72] \"ramos.4264_contigs_nanopolish.4264.fa\"\n",
       " [73] \"ramos.4344_contigs_nanopolish.4344.fa\"\n",
       " [74] \"ramos.4362_contigs_nanopolish.4362.fa\"\n",
       " [75] \"ramos.4411_contigs_nanopolish.4411.fa\"\n",
       " [76] \"ramos.4417_contigs_nanopolish.4417.fa\"\n",
       " [77] \"ramos.4436_contigs_nanopolish.4436.fa\"\n",
       " [78] \"ramos.4504_contigs_nanopolish.4504.fa\"\n",
       " [79] \"ramos.4508_contigs_nanopolish.4508.fa\"\n",
       " [80] \"ramos.455_contigs_nanopolish.455.fa\"  \n",
       " [81] \"ramos.4568_contigs_nanopolish.4568.fa\"\n",
       " [82] \"ramos.4589_contigs_nanopolish.4589.fa\"\n",
       " [83] \"ramos.4635_contigs_nanopolish.4635.fa\"\n",
       " [84] \"ramos.4721_contigs_nanopolish.4721.fa\"\n",
       " [85] \"ramos.4758_contigs_nanopolish.4758.fa\"\n",
       " [86] \"ramos.4825_contigs_nanopolish.4825.fa\"\n",
       " [87] \"ramos.4_contigs_nanopolish.4.fa\"      \n",
       " [88] \"ramos.5072_contigs_nanopolish.5072.fa\"\n",
       " [89] \"ramos.5188_contigs_nanopolish.5188.fa\"\n",
       " [90] \"ramos.5325_contigs_nanopolish.5325.fa\"\n",
       " [91] \"ramos.5451_contigs_nanopolish.5451.fa\"\n",
       " [92] \"ramos.5499_contigs_nanopolish.5499.fa\"\n",
       " [93] \"ramos.5547_contigs_nanopolish.5547.fa\"\n",
       " [94] \"ramos.57_contigs_nanopolish.57.fa\"    \n",
       " [95] \"ramos.604_contigs_nanopolish.604.fa\"  \n",
       " [96] \"ramos.626_contigs_nanopolish.626.fa\"  \n",
       " [97] \"ramos.652_contigs_nanopolish.652.fa\"  \n",
       " [98] \"ramos.677_contigs_nanopolish.677.fa\"  \n",
       " [99] \"ramos.701_contigs_nanopolish.701.fa\"  \n",
       "[100] \"ramos.705_contigs_nanopolish.705.fa\"  \n",
       "[101] \"ramos.745_contigs_nanopolish.745.fa\"  \n",
       "[102] \"ramos.760_contigs_nanopolish.760.fa\"  \n",
       "[103] \"ramos.787_contigs_nanopolish.787.fa\"  \n",
       "[104] \"ramos.845_contigs_nanopolish.845.fa\"  \n",
       "[105] \"ramos.849_contigs_nanopolish.849.fa\"  \n",
       "[106] \"ramos.901_contigs_nanopolish.901.fa\"  \n",
       "[107] \"ramos.902_contigs_nanopolish.902.fa\"  \n",
       "[108] \"ramos.973_contigs_nanopolish.973.fa\"  "
      ]
     },
     "metadata": {},
     "output_type": "display_data"
    }
   ],
   "source": [
    "ramos <- file.path(\"/data/samples/AIRR-Seq/ramos/changeo/\")\n",
    "list.files(ramos)"
   ]
  },
  {
   "cell_type": "code",
   "execution_count": 20,
   "id": "complete-infrared",
   "metadata": {},
   "outputs": [
    {
     "name": "stderr",
     "output_type": "stream",
     "text": [
      "Warning message:\n",
      "“Unknown or uninitialised column: `sequence_alignment`.”\n"
     ]
    },
    {
     "data": {
      "text/html": [
       "<ol>\n",
       "</ol>\n"
      ],
      "text/latex": [
       "\\begin{enumerate}\n",
       "\\end{enumerate}\n"
      ],
      "text/markdown": [
       "\n",
       "\n"
      ],
      "text/plain": [
       "list()"
      ]
     },
     "metadata": {},
     "output_type": "display_data"
    }
   ],
   "source": [
    "passed_path = file.path(ramos, \"passed_germline.tsv\")\n",
    "passed = readChangeoDb(passed_path)\n",
    "translateDNA(passed$sequence_alignment)"
   ]
  },
  {
   "cell_type": "code",
   "execution_count": 21,
   "id": "martial-diesel",
   "metadata": {},
   "outputs": [
    {
     "data": {
      "text/html": [
       "'XXXXXXXXXXXXXXXXXXXXXXXXXXXXXXXXXXXXXXXXXXXXXXXXXXXXXXXXXXXXXXXXXXXXXXXXXXXXXXXXATGFYPDHVELSWWVNGKEVHSGVSTDPQPLKEQPALNDSRYCLSSRLRVSATFWQNPRNHFRCQVQFYGLSENDEWTQDRA'"
      ],
      "text/latex": [
       "'XXXXXXXXXXXXXXXXXXXXXXXXXXXXXXXXXXXXXXXXXXXXXXXXXXXXXXXXXXXXXXXXXXXXXXXXXXXXXXXXATGFYPDHVELSWWVNGKEVHSGVSTDPQPLKEQPALNDSRYCLSSRLRVSATFWQNPRNHFRCQVQFYGLSENDEWTQDRA'"
      ],
      "text/markdown": [
       "'XXXXXXXXXXXXXXXXXXXXXXXXXXXXXXXXXXXXXXXXXXXXXXXXXXXXXXXXXXXXXXXXXXXXXXXXXXXXXXXXATGFYPDHVELSWWVNGKEVHSGVSTDPQPLKEQPALNDSRYCLSSRLRVSATFWQNPRNHFRCQVQFYGLSENDEWTQDRA'"
      ],
      "text/plain": [
       "[1] \"XXXXXXXXXXXXXXXXXXXXXXXXXXXXXXXXXXXXXXXXXXXXXXXXXXXXXXXXXXXXXXXXXXXXXXXXXXXXXXXXATGFYPDHVELSWWVNGKEVHSGVSTDPQPLKEQPALNDSRYCLSSRLRVSATFWQNPRNHFRCQVQFYGLSENDEWTQDRA\""
      ]
     },
     "metadata": {},
     "output_type": "display_data"
    }
   ],
   "source": [
    "example_path <- file.path(ramos, \"ramos.1001_contigs_nanopolish.1001.fa\", \"ramos.1001_contigs_nanopolish.1001.fa_db-pass.tsv\")\n",
    "example = readChangeoDb(example_path)\n",
    "translateDNA(example$sequence_alignment)"
   ]
  },
  {
   "cell_type": "code",
   "execution_count": 24,
   "id": "expanded-float",
   "metadata": {},
   "outputs": [
    {
     "data": {
      "text/html": [
       "<style>\n",
       ".list-inline {list-style: none; margin:0; padding: 0}\n",
       ".list-inline>li {display: inline-block}\n",
       ".list-inline>li:not(:last-child)::after {content: \"\\00b7\"; padding: 0 .5ex}\n",
       "</style>\n",
       "<ol class=list-inline><li>'QVQLQQWGAXGLLKPSETLSLTCGVYGGSFXXXXSGYYWSWIRQPPGKGLEWIGEINHSXXXGSTNYNPSLKXSRVTISVDTSKKHLSLKLSSVNAADTAVYYCARVITRASPGTDGRYGMDVWGQGTTVTVSS'</li><li>'QVQLQQWGAXGLLKPSETLSLTCGVYGGSFXXXXSGYYWSWIRQPPGKGLEWIGEINHSXXXGSTNYNPSLKXSRVTISVDTSKKHLSLKLSSVNAADTAVYYCARVITRASPGTDGRYGMDVWGQGTTVTVSS'</li><li>'XXXXXXXXXXXXXXXXXXXXXXXXXXXXXXXXXXXXXXXXXXXXXXXXXXXXXXXXXXXXXXXXXNLQRRIHLAGGTTQWI*NLEGALVVLERLELGDIAG*TLPFS*LYDL*PLISVSSLERWDN'</li><li>'QSALTQPASXVSGSPGQSITISCTGTSSDVGXXXGYNYVSWYQQNPGKAPKLMIYDVXXXXXXXSNRPSGVSXNRFSGSKXXSGNTASLTISGLQADDEADYYCTSYTNDSNSQVFGGGTKLTVL'</li><li>'QSALTQPASXVSGSPGQSITISCTGTSSDVGXXXGYNYVSWYQQNPGKAPKLMIYDVXXXXXXXSNRPSGISXNRFSGSKXXSGNTASLTISGLQADDEADYYCTSYTNDSNSQVFGGGTKLTVL'</li></ol>\n"
      ],
      "text/latex": [
       "\\begin{enumerate*}\n",
       "\\item 'QVQLQQWGAXGLLKPSETLSLTCGVYGGSFXXXXSGYYWSWIRQPPGKGLEWIGEINHSXXXGSTNYNPSLKXSRVTISVDTSKKHLSLKLSSVNAADTAVYYCARVITRASPGTDGRYGMDVWGQGTTVTVSS'\n",
       "\\item 'QVQLQQWGAXGLLKPSETLSLTCGVYGGSFXXXXSGYYWSWIRQPPGKGLEWIGEINHSXXXGSTNYNPSLKXSRVTISVDTSKKHLSLKLSSVNAADTAVYYCARVITRASPGTDGRYGMDVWGQGTTVTVSS'\n",
       "\\item 'XXXXXXXXXXXXXXXXXXXXXXXXXXXXXXXXXXXXXXXXXXXXXXXXXXXXXXXXXXXXXXXXXNLQRRIHLAGGTTQWI*NLEGALVVLERLELGDIAG*TLPFS*LYDL*PLISVSSLERWDN'\n",
       "\\item 'QSALTQPASXVSGSPGQSITISCTGTSSDVGXXXGYNYVSWYQQNPGKAPKLMIYDVXXXXXXXSNRPSGVSXNRFSGSKXXSGNTASLTISGLQADDEADYYCTSYTNDSNSQVFGGGTKLTVL'\n",
       "\\item 'QSALTQPASXVSGSPGQSITISCTGTSSDVGXXXGYNYVSWYQQNPGKAPKLMIYDVXXXXXXXSNRPSGISXNRFSGSKXXSGNTASLTISGLQADDEADYYCTSYTNDSNSQVFGGGTKLTVL'\n",
       "\\end{enumerate*}\n"
      ],
      "text/markdown": [
       "1. 'QVQLQQWGAXGLLKPSETLSLTCGVYGGSFXXXXSGYYWSWIRQPPGKGLEWIGEINHSXXXGSTNYNPSLKXSRVTISVDTSKKHLSLKLSSVNAADTAVYYCARVITRASPGTDGRYGMDVWGQGTTVTVSS'\n",
       "2. 'QVQLQQWGAXGLLKPSETLSLTCGVYGGSFXXXXSGYYWSWIRQPPGKGLEWIGEINHSXXXGSTNYNPSLKXSRVTISVDTSKKHLSLKLSSVNAADTAVYYCARVITRASPGTDGRYGMDVWGQGTTVTVSS'\n",
       "3. 'XXXXXXXXXXXXXXXXXXXXXXXXXXXXXXXXXXXXXXXXXXXXXXXXXXXXXXXXXXXXXXXXXNLQRRIHLAGGTTQWI*NLEGALVVLERLELGDIAG*TLPFS*LYDL*PLISVSSLERWDN'\n",
       "4. 'QSALTQPASXVSGSPGQSITISCTGTSSDVGXXXGYNYVSWYQQNPGKAPKLMIYDVXXXXXXXSNRPSGVSXNRFSGSKXXSGNTASLTISGLQADDEADYYCTSYTNDSNSQVFGGGTKLTVL'\n",
       "5. 'QSALTQPASXVSGSPGQSITISCTGTSSDVGXXXGYNYVSWYQQNPGKAPKLMIYDVXXXXXXXSNRPSGISXNRFSGSKXXSGNTASLTISGLQADDEADYYCTSYTNDSNSQVFGGGTKLTVL'\n",
       "\n",
       "\n"
      ],
      "text/plain": [
       "[1] \"QVQLQQWGAXGLLKPSETLSLTCGVYGGSFXXXXSGYYWSWIRQPPGKGLEWIGEINHSXXXGSTNYNPSLKXSRVTISVDTSKKHLSLKLSSVNAADTAVYYCARVITRASPGTDGRYGMDVWGQGTTVTVSS\"\n",
       "[2] \"QVQLQQWGAXGLLKPSETLSLTCGVYGGSFXXXXSGYYWSWIRQPPGKGLEWIGEINHSXXXGSTNYNPSLKXSRVTISVDTSKKHLSLKLSSVNAADTAVYYCARVITRASPGTDGRYGMDVWGQGTTVTVSS\"\n",
       "[3] \"XXXXXXXXXXXXXXXXXXXXXXXXXXXXXXXXXXXXXXXXXXXXXXXXXXXXXXXXXXXXXXXXXNLQRRIHLAGGTTQWI*NLEGALVVLERLELGDIAG*TLPFS*LYDL*PLISVSSLERWDN\"        \n",
       "[4] \"QSALTQPASXVSGSPGQSITISCTGTSSDVGXXXGYNYVSWYQQNPGKAPKLMIYDVXXXXXXXSNRPSGVSXNRFSGSKXXSGNTASLTISGLQADDEADYYCTSYTNDSNSQVFGGGTKLTVL\"         \n",
       "[5] \"QSALTQPASXVSGSPGQSITISCTGTSSDVGXXXGYNYVSWYQQNPGKAPKLMIYDVXXXXXXXSNRPSGISXNRFSGSKXXSGNTASLTISGLQADDEADYYCTSYTNDSNSQVFGGGTKLTVL\"         "
      ]
     },
     "metadata": {},
     "output_type": "display_data"
    }
   ],
   "source": [
    "example_2_path <- file.path(ramos, \"ramos.1006_contigs_nanopolish.1006.fa\", \"ramos.1006_contigs_nanopolish.1006.fa_db-pass.tsv\")\n",
    "example_2 = readChangeoDb(example_2_path)\n",
    "translateDNA(example_2$sequence_alignment)"
   ]
  },
  {
   "cell_type": "code",
   "execution_count": 28,
   "id": "pressed-gamma",
   "metadata": {},
   "outputs": [
    {
     "data": {
      "text/html": [
       "<style>\n",
       ".list-inline {list-style: none; margin:0; padding: 0}\n",
       ".list-inline>li {display: inline-block}\n",
       ".list-inline>li:not(:last-child)::after {content: \"\\00b7\"; padding: 0 .5ex}\n",
       "</style>\n",
       "<ol class=list-inline><li>'/data/samples/AIRR-Seq/ramos/changeo//ramos.1001_contigs_nanopolish.1001.fa/ramos.1001_contigs_nanopolish.1001.fa_db-pass.tsv'</li><li>'/data/samples/AIRR-Seq/ramos/changeo//ramos.1006_contigs_nanopolish.1006.fa/ramos.1006_contigs_nanopolish.1006.fa_db-pass.tsv'</li></ol>\n"
      ],
      "text/latex": [
       "\\begin{enumerate*}\n",
       "\\item '/data/samples/AIRR-Seq/ramos/changeo//ramos.1001\\_contigs\\_nanopolish.1001.fa/ramos.1001\\_contigs\\_nanopolish.1001.fa\\_db-pass.tsv'\n",
       "\\item '/data/samples/AIRR-Seq/ramos/changeo//ramos.1006\\_contigs\\_nanopolish.1006.fa/ramos.1006\\_contigs\\_nanopolish.1006.fa\\_db-pass.tsv'\n",
       "\\end{enumerate*}\n"
      ],
      "text/markdown": [
       "1. '/data/samples/AIRR-Seq/ramos/changeo//ramos.1001_contigs_nanopolish.1001.fa/ramos.1001_contigs_nanopolish.1001.fa_db-pass.tsv'\n",
       "2. '/data/samples/AIRR-Seq/ramos/changeo//ramos.1006_contigs_nanopolish.1006.fa/ramos.1006_contigs_nanopolish.1006.fa_db-pass.tsv'\n",
       "\n",
       "\n"
      ],
      "text/plain": [
       "[1] \"/data/samples/AIRR-Seq/ramos/changeo//ramos.1001_contigs_nanopolish.1001.fa/ramos.1001_contigs_nanopolish.1001.fa_db-pass.tsv\"\n",
       "[2] \"/data/samples/AIRR-Seq/ramos/changeo//ramos.1006_contigs_nanopolish.1006.fa/ramos.1006_contigs_nanopolish.1006.fa_db-pass.tsv\""
      ]
     },
     "metadata": {},
     "output_type": "display_data"
    }
   ],
   "source": [
    "c(example_path, example_2_path)"
   ]
  },
  {
   "cell_type": "code",
   "execution_count": 29,
   "id": "south-margin",
   "metadata": {},
   "outputs": [
    {
     "ename": "ERROR",
     "evalue": "Error in parse(text = x, srcfile = src): <text>:1:1: unexpected SPECIAL\n1: %%\n    ^\n",
     "output_type": "error",
     "traceback": [
      "Error in parse(text = x, srcfile = src): <text>:1:1: unexpected SPECIAL\n1: %%\n    ^\nTraceback:\n"
     ]
    }
   ],
   "source": [
    "%%bash\n",
    "ParseDb.py merge -d /data/samples/AIRR-Seq/ramos/changeo//ramos.1001_contigs_nanopolish.1001.fa/ramos.1001_contigs_nanopolish.1001.fa_db-pass.tsv /data/samples/AIRR-Seq/ramos/changeo//ramos.1006_contigs_nanopolish.1006.fa/ramos.1006_contigs_nanopolish.1006.fa_db-pass.tsv merge_results"
   ]
  },
  {
   "cell_type": "code",
   "execution_count": null,
   "id": "imposed-drunk",
   "metadata": {},
   "outputs": [],
   "source": []
  }
 ],
 "metadata": {
  "kernelspec": {
   "display_name": "R",
   "language": "R",
   "name": "ir"
  },
  "language_info": {
   "codemirror_mode": "r",
   "file_extension": ".r",
   "mimetype": "text/x-r-source",
   "name": "R",
   "pygments_lexer": "r",
   "version": "4.0.3"
  }
 },
 "nbformat": 4,
 "nbformat_minor": 5
}
