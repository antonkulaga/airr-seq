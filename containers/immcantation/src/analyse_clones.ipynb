{
 "cells": [
  {
   "cell_type": "code",
   "execution_count": 1,
   "id": "255c44a0-1949-4aca-bb1e-663a2bd14202",
   "metadata": {},
   "outputs": [],
   "source": [
    "include <- function(pkg) {\n",
    "  if (!suppressMessages(require(pkg, character.only = TRUE)))\n",
    "    install.packages(pkg, character.only = TRUE)\n",
    "  suppressMessages(library(pkg, pkg, character.only = TRUE))\n",
    "}\n",
    "\n",
    "include(\"alakazam\")\n",
    "include(\"shazam\")\n",
    "include(\"dplyr\")\n",
    "include(\"ggplot2\")"
   ]
  },
  {
   "cell_type": "code",
   "execution_count": 2,
   "id": "c0124b17-dd56-45e0-a5a0-dab4c82bcefb",
   "metadata": {},
   "outputs": [],
   "source": [
    "# Helper\n",
    "writeAnalysisTable <- function(table, filepath) {\n",
    "    write.table(\n",
    "        table, \n",
    "        file = filepath, \n",
    "        quote = FALSE, \n",
    "        row.names = FALSE, \n",
    "        sep = \"\\t\")\n",
    "    print(paste0(\"Output is written to \", filepath))\n",
    "}\n",
    "\n",
    "# Pipeline\n",
    "clonal_analysis <- function(clones_path, name) {\n",
    "\n",
    "    clones_filename = paste0(name, \"_novj_with_clones.tsv\")\n",
    "    repertoire = read.csv(\n",
    "        paste0(clones_path, \"/\", clones_filename), \n",
    "        sep='\\t'\n",
    "    )\n",
    "\n",
    "    repertoire = repertoire[order(-repertoire[, \"duplicate_count\"]), ]\n",
    "    \n",
    "    # Collapse clones\n",
    "    clonal_sequences = shazam::collapseClones(\n",
    "        db = repertoire[, c(\"sequence_alignment\", \"germline_alignment\", \"clone_id\")], \n",
    "        cloneColumn=\"clone_id\", \n",
    "        sequenceColumn=\"sequence_alignment\", \n",
    "        germlineColumn=\"germline_alignment\", \n",
    "        regionDefinition=NULL, #shazam::IMGT_V, \n",
    "        method=\"thresholdedFreq\", minimumFrequency=0.6,\n",
    "        includeAmbiguous=FALSE, breakTiesStochastic=FALSE, \n",
    "        nproc=12\n",
    "    )\n",
    "    clonal_sequences_dt = data.table::data.table(clonal_sequences)\n",
    "    clonal_sequences_dt$clone_id = as.integer(clonal_sequences_dt$clone_id)\n",
    "    # Augment clones data.table with extra informative columns\n",
    "    augment_clones = function(repertoire_dt, clonal_sequences_dt) {\n",
    "        clones_dt = repertoire_dt[, \n",
    "                      list(\n",
    "                          counts=sum(duplicate_count), \n",
    "                          num_seqs=length(unique((sequence_id)))\n",
    "                      ), \n",
    "                      by=\"clone_id\"][order(-counts)]\n",
    "\n",
    "        clones_dt = merge(clones_dt, clonal_sequences_dt, by = \"clone_id\", all = FALSE)[order(-counts)]\n",
    "        return(clones_dt)\n",
    "    }\n",
    "\n",
    "    repertoire_dt = data.table::data.table(repertoire)\n",
    "    clones_dt = augment_clones(repertoire_dt, clonal_sequences_dt)\n",
    "    writeAnalysisTable(clones_dt, paste0(clones_path, \"/\", name, \"_collapse_clones.tsv\"))\n",
    "\n",
    "    # Observed mutations (sequences)\n",
    "    repertoire_obs <- shazam::observedMutations(\n",
    "        repertoire_dt, \n",
    "        sequenceColumn=\"sequence\",\n",
    "        germlineColumn=\"germline_alignment_d_mask\",  # d_mask\n",
    "#                             regionDefinition=shazam::IMGT_VDJ_BY_REGIONS,\n",
    "        frequency=TRUE,\n",
    "        combine=FALSE,\n",
    "        nproc=12)\n",
    "    writeAnalysisTable(repertoire_obs, paste0(clones_path, \"/\", name, \"_novj_with_clones_and_muts.tsv\"))\n",
    "    \n",
    "    # Selection pressure\n",
    "    baseline <- shazam::calcBaseline(\n",
    "        clones_dt, \n",
    "        testStatistic=\"focused\", \n",
    "        regionDefinition=shazam::IMGT_V, \n",
    "        nproc=1, \n",
    "        calcStats = TRUE)\n",
    "    writeAnalysisTable(baseline@stats, paste0(clones_path, \"/\", name, \"_collapse_clones_with_selection_pressure.tsv\"))\n",
    "    \n",
    "}"
   ]
  },
  {
   "cell_type": "code",
   "execution_count": 3,
   "id": "57c23555-b5e2-4273-acb6-d4da483ead84",
   "metadata": {},
   "outputs": [],
   "source": [
    "# clones_path = \"/data/samples/AIRR-Seq/OURS/S5205Nr1/S5205Nr1-P1_IgG1Fc_H/clones\"\n",
    "# name = \"S5205Nr1-P1_IgG1Fc_H\"\n",
    "# clonal_analysis(clones_path, name)"
   ]
  },
  {
   "cell_type": "code",
   "execution_count": 4,
   "id": "a3490bb3-d9a2-43be-a3fc-cd442d59ab2f",
   "metadata": {},
   "outputs": [
    {
     "name": "stderr",
     "output_type": "stream",
     "text": [
      "Warning message in readLines(file):\n",
      "“incomplete final line found on '/data/sources/immune-repertoires-dash/config.yml'”\n"
     ]
    }
   ],
   "source": [
    "config = yaml::read_yaml(\"/data/sources/immune-repertoires-dash/config.yml\")\n",
    "sample_names = names(config$samples)"
   ]
  },
  {
   "cell_type": "code",
   "execution_count": null,
   "id": "ae373212-8b95-4a54-8648-693183d8f853",
   "metadata": {},
   "outputs": [
    {
     "name": "stdout",
     "output_type": "stream",
     "text": [
      "[1] \"Number of samples: 13\"\n",
      "[1] \"Clonal analysis for: 1 - S3987Nr1-PBMC1_heavy\"\n",
      "[1] \"Output is written to /data/samples/AIRR-Seq/OURS/S3987Nr1/S3987Nr1-PBMC1_heavy/clones/S3987Nr1-PBMC1_heavy_collapse_clones.tsv\"\n",
      "[1] \"Output is written to /data/samples/AIRR-Seq/OURS/S3987Nr1/S3987Nr1-PBMC1_heavy/clones/S3987Nr1-PBMC1_heavy_novj_with_clones_and_muts.tsv\"\n"
     ]
    },
    {
     "name": "stderr",
     "output_type": "stream",
     "text": [
      "calcBaseline will calculate observed and expected mutations for clonal_sequence using clonal_germline as a reference.\n",
      "\n"
     ]
    },
    {
     "name": "stdout",
     "output_type": "stream",
     "text": [
      "Calculating BASELINe probability density functions...\n",
      "Calculating BASELINe statistics...\n",
      "[1] \"Output is written to /data/samples/AIRR-Seq/OURS/S3987Nr1/S3987Nr1-PBMC1_heavy/clones/S3987Nr1-PBMC1_heavy_collapse_clones_with_selection_pressure.tsv\"\n",
      "[1] \"\\n\"\n",
      "[1] \"Clonal analysis for: 2 - S3987Nr1-PBMC1_light\"\n",
      "[1] \"Output is written to /data/samples/AIRR-Seq/OURS/S3987Nr1/S3987Nr1-PBMC1_light/clones/S3987Nr1-PBMC1_light_collapse_clones.tsv\"\n",
      "[1] \"Output is written to /data/samples/AIRR-Seq/OURS/S3987Nr1/S3987Nr1-PBMC1_light/clones/S3987Nr1-PBMC1_light_novj_with_clones_and_muts.tsv\"\n"
     ]
    },
    {
     "name": "stderr",
     "output_type": "stream",
     "text": [
      "calcBaseline will calculate observed and expected mutations for clonal_sequence using clonal_germline as a reference.\n",
      "\n"
     ]
    },
    {
     "name": "stdout",
     "output_type": "stream",
     "text": [
      "Calculating BASELINe probability density functions...\n",
      "Calculating BASELINe statistics...\n",
      "[1] \"Output is written to /data/samples/AIRR-Seq/OURS/S3987Nr1/S3987Nr1-PBMC1_light/clones/S3987Nr1-PBMC1_light_collapse_clones_with_selection_pressure.tsv\"\n",
      "[1] \"\\n\"\n",
      "[1] \"Clonal analysis for: 3 - S3987Nr1-RAMOS_heavy\"\n",
      "[1] \"Output is written to /data/samples/AIRR-Seq/OURS/S3987Nr1/S3987Nr1-RAMOS_heavy/clones/S3987Nr1-RAMOS_heavy_collapse_clones.tsv\"\n",
      "[1] \"Output is written to /data/samples/AIRR-Seq/OURS/S3987Nr1/S3987Nr1-RAMOS_heavy/clones/S3987Nr1-RAMOS_heavy_novj_with_clones_and_muts.tsv\"\n"
     ]
    },
    {
     "name": "stderr",
     "output_type": "stream",
     "text": [
      "calcBaseline will calculate observed and expected mutations for clonal_sequence using clonal_germline as a reference.\n",
      "\n"
     ]
    },
    {
     "name": "stdout",
     "output_type": "stream",
     "text": [
      "Calculating BASELINe probability density functions...\n",
      "Calculating BASELINe statistics...\n",
      "[1] \"Output is written to /data/samples/AIRR-Seq/OURS/S3987Nr1/S3987Nr1-RAMOS_heavy/clones/S3987Nr1-RAMOS_heavy_collapse_clones_with_selection_pressure.tsv\"\n",
      "[1] \"\\n\"\n",
      "[1] \"Clonal analysis for: 4 - S3987Nr1-RAMOS_light\"\n",
      "[1] \"Output is written to /data/samples/AIRR-Seq/OURS/S3987Nr1/S3987Nr1-RAMOS_light/clones/S3987Nr1-RAMOS_light_collapse_clones.tsv\"\n",
      "[1] \"Output is written to /data/samples/AIRR-Seq/OURS/S3987Nr1/S3987Nr1-RAMOS_light/clones/S3987Nr1-RAMOS_light_novj_with_clones_and_muts.tsv\"\n"
     ]
    },
    {
     "name": "stderr",
     "output_type": "stream",
     "text": [
      "calcBaseline will calculate observed and expected mutations for clonal_sequence using clonal_germline as a reference.\n",
      "\n"
     ]
    }
   ],
   "source": [
    "print(paste0(\"Number of samples: \", length(sample_names)))\n",
    "for (i in 1:length(sample_names)) {\n",
    "    sample_name = sample_names[i]\n",
    "    sample_path = config$samples[[sample_name]]$sample_path\n",
    "    clones_path = paste0(sample_path, \"/clones\")\n",
    "    \n",
    "    print(paste0(\"Clonal analysis for: \", i, \" - \", sample_name))\n",
    "    clonal_analysis(clones_path, sample_name)\n",
    "    print(\"\\n\")\n",
    "}"
   ]
  },
  {
   "cell_type": "code",
   "execution_count": null,
   "id": "a645268a-7a3e-4b1f-b697-331dafc2c81e",
   "metadata": {},
   "outputs": [],
   "source": []
  }
 ],
 "metadata": {
  "kernelspec": {
   "display_name": "R",
   "language": "R",
   "name": "ir"
  },
  "language_info": {
   "codemirror_mode": "r",
   "file_extension": ".r",
   "mimetype": "text/x-r-source",
   "name": "R",
   "pygments_lexer": "r",
   "version": "4.0.3"
  }
 },
 "nbformat": 4,
 "nbformat_minor": 5
}
