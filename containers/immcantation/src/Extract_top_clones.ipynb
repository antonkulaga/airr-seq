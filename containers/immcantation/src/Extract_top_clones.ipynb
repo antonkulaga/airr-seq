{
 "cells": [
  {
   "cell_type": "code",
   "execution_count": 73,
   "id": "f581b857-373e-4854-b9fc-98fa2fc9c379",
   "metadata": {},
   "outputs": [],
   "source": [
    "from pathlib import Path\n",
    "import pandas as pd\n",
    "\n",
    "from Bio import SeqIO\n",
    "from Bio.Seq import Seq\n",
    "from Bio.SeqRecord import SeqRecord\n",
    "# from Bio.Align import MultipleSeqAlignment\n",
    "# import Bio.Align.Applications"
   ]
  },
  {
   "cell_type": "code",
   "execution_count": 93,
   "id": "51692eff-8429-4cfb-8fca-174370cc51ee",
   "metadata": {},
   "outputs": [],
   "source": [
    "def build_path_clones(sample_name):\n",
    "    BASE = Path(\"/data/samples/AIRR-Seq/OURS\")\n",
    "    seq_batch = sample_name.split(\"-\")[0]\n",
    "    sample_clones_path = BASE / seq_batch / sample_name / \"clones\" / f\"{sample_name}_novj_with_clones.tsv\"\n",
    "    return sample_clones_path\n",
    "\n",
    "def read_clones(path):\n",
    "    clones_df = pd.read_csv(path, sep='\\t')\n",
    "    clones_df.sort_values([\"duplicate_count\"], ascending = False, inplace = True)\n",
    "    return clones_df\n",
    "\n",
    "def write_fasta(fpath, seq_records):\n",
    "    SeqIO.write(seq_records, fpath, \"fasta\")\n",
    "\n",
    "def sequenceRecords_from_clones(clones_df, sequence_colname, num_seqs, sample_name):\n",
    "    \n",
    "    total_counts = clones.duplicate_count.sum()\n",
    "    records = []\n",
    "\n",
    "    for i, (id_, series) in enumerate(clones.iloc[:num_seqs].iterrows()):\n",
    "\n",
    "#         string_description = f\"id={id_}|clone_id={series.clone_id}|sample_name={sample_name}|seq={sequence_colname}|rev={series.rev_comp}|count={series.duplicate_count}/{total_counts}|rank={i+1}\"\n",
    "        percent = series.duplicate_count / total_counts\n",
    "        string_description = f\"{id_}|{series.clone_id}|{sample_name}|{percent}\"\n",
    "        record = SeqRecord(\n",
    "            Seq(series[sequence_colname]),\n",
    "            id=string_description,\n",
    "            description=string_description,\n",
    "        )\n",
    "        records.append(record)\n",
    "    return records"
   ]
  },
  {
   "cell_type": "code",
   "execution_count": 166,
   "id": "6f03a4e3-a5cc-439c-acce-1e2668a56ced",
   "metadata": {},
   "outputs": [],
   "source": [
    "SAMPLE_NAMES = [\n",
    "#     \"S3987Nr1-PBMC1_heavy\",\n",
    "#     \"S3987Nr1-PBMC1_light\",\n",
    "#     \"S3987Nr1-RAMOS_heavy\",\n",
    "#     \"S3987Nr1-RAMOS_light\",\n",
    "#     \"S3987Nr2-PBMC1_heavy\",\n",
    "#     \"S3987Nr2-PBMC1_light\",\n",
    "#     \"S3987Nr2-RAMOS_heavy\",\n",
    "    \"S3987Nr2-RAMOS_light\",\n",
    "]"
   ]
  },
  {
   "cell_type": "code",
   "execution_count": 167,
   "id": "187e0c2d-2694-4742-ace6-350134dfa27d",
   "metadata": {},
   "outputs": [],
   "source": [
    "# clones = read_clones(build_path_clones(SAMPLE_NAMES[2]))\n",
    "\n",
    "# print(clones.columns)\n",
    "# clones.head(5)\n",
    "\n",
    "# seq_records = sequenceRecords_from_clones(clones, \"sequence\", 10, \"S3987Nr1-RAMOS-heavy\")\n",
    "# write_fasta(\"test.fasta\", seq_records)"
   ]
  },
  {
   "cell_type": "code",
   "execution_count": 169,
   "id": "7b35529e-e757-4b99-be96-4a03f3d4a3d3",
   "metadata": {},
   "outputs": [],
   "source": [
    "seq_feature = \"cdr3\"  # sequence, cdr3, Translation\n",
    "for sample_name in SAMPLE_NAMES:\n",
    "    clones = read_clones(build_path_clones(sample_name))\n",
    "    seq_records = sequenceRecords_from_clones(clones, seq_feature, 10, sample_name)\n",
    "    write_fasta(f\"{sample_name}-{seq_feature}.fasta\", seq_records)"
   ]
  },
  {
   "cell_type": "markdown",
   "id": "b350cf80-ff26-475c-9877-a707565e1d8a",
   "metadata": {},
   "source": [
    "### Analyze guides"
   ]
  },
  {
   "cell_type": "code",
   "execution_count": 124,
   "id": "b18dda06-3916-4a57-8a1d-e62b07360757",
   "metadata": {},
   "outputs": [],
   "source": [
    "def analyze_effect(effect_str):\n",
    "    if effect_str[0] == 'D':\n",
    "        if (int(effect_str.split(\" \")[0][1:]) % 3) != 0:\n",
    "            return \"frameshift\"\n",
    "        else:\n",
    "            return \"no-frameshift\"\n",
    "    elif effect_str[0] == 'I':\n",
    "        if (int(effect_str.split(\"+\")[0][1:]) % 3) != 0:\n",
    "            return \"frameshift\"\n",
    "        else:\n",
    "            return \"no-frameshift\"\n",
    "    else:\n",
    "        return \"unknown\""
   ]
  },
  {
   "cell_type": "code",
   "execution_count": 158,
   "id": "a72d033d-3a56-4d42-8e43-cc645b620c7f",
   "metadata": {},
   "outputs": [],
   "source": [
    "lindel = pd.read_html(\"http://crispor.tefor.net/crispor.py?batchId=QM7zw8eNpm9eL2a3w5IZ&pamId=s283%2B&showMh=lindel\")[0]\n",
    "lindel.head()\n",
    "\n",
    "effects = pd.Series(map(analyze_effect, lindel['Effect']))\n",
    "probabilities = lindel['Probability'].str[:-1].astype('float32') * 10**(-2)"
   ]
  },
  {
   "cell_type": "code",
   "execution_count": 165,
   "id": "ab4027c3-2974-4acf-b409-4293e40350d2",
   "metadata": {},
   "outputs": [
    {
     "data": {
      "text/plain": [
       "0.71409994"
      ]
     },
     "execution_count": 165,
     "metadata": {},
     "output_type": "execute_result"
    }
   ],
   "source": [
    "# probabilities.where(mask).sum()\n",
    "probabilities[effects == \"frameshift\"].sum()"
   ]
  },
  {
   "cell_type": "code",
   "execution_count": null,
   "id": "4400bcd5-9914-4772-bc05-f3b11a249fd4",
   "metadata": {},
   "outputs": [],
   "source": []
  }
 ],
 "metadata": {
  "kernelspec": {
   "display_name": "Python 3",
   "language": "python",
   "name": "python3"
  },
  "language_info": {
   "codemirror_mode": {
    "name": "ipython",
    "version": 3
   },
   "file_extension": ".py",
   "mimetype": "text/x-python",
   "name": "python",
   "nbconvert_exporter": "python",
   "pygments_lexer": "ipython3",
   "version": "3.9.1"
  }
 },
 "nbformat": 4,
 "nbformat_minor": 5
}
