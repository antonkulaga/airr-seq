{
 "cells": [
  {
   "cell_type": "code",
   "execution_count": 113,
   "id": "1de7541c-2156-4e5f-bad9-418fc6791d88",
   "metadata": {},
   "outputs": [
    {
     "name": "stderr",
     "output_type": "stream",
     "text": [
      "Installing package into ‘/home/magus/R/x86_64-redhat-linux-gnu-library/4.0’\n",
      "(as ‘lib’ is unspecified)\n",
      "\n"
     ]
    }
   ],
   "source": [
    "include <- function(pkg) {\n",
    "  if (!suppressMessages(require(pkg, character.only = TRUE)))\n",
    "    install.packages(pkg, character.only = TRUE)\n",
    "  suppressMessages(library(pkg, pkg, character.only = TRUE))\n",
    "}\n",
    "include(\"ShortRead\")\n",
    "include(\"plyr\")\n",
    "include(\"magick\")"
   ]
  },
  {
   "cell_type": "code",
   "execution_count": 36,
   "id": "5e7bdb83-0acc-4b7c-8078-1a25800c9db7",
   "metadata": {},
   "outputs": [],
   "source": [
    "BASE_PATH_NR1 = \"/data/samples/AIRR-Seq/OURS/S3987Nr1\"\n",
    "BASE_PATH_NR2 = \"/data/samples/AIRR-Seq/OURS/S3987Nr2\"\n",
    "\n",
    "SAMPLES = list(\n",
    "    list(base_path=BASE_PATH_NR1, name=\"S3987Nr1-PBMC1_heavy\"),\n",
    "    list(base_path=BASE_PATH_NR1, name=\"S3987Nr1-PBMC1_light\"),\n",
    "    list(base_path=BASE_PATH_NR1, name=\"S3987Nr1-RAMOS_heavy\"),\n",
    "    list(base_path=BASE_PATH_NR1, name=\"S3987Nr1-RAMOS_light\")\n",
    "#     list(base_path=BASE_PATH_NR2, name=\"S3987Nr2-PBMC1_heavy\"),\n",
    "#     list(base_path=BASE_PATH_NR2, name=\"S3987Nr2-PBMC1_light\"),\n",
    "#     list(base_path=BASE_PATH_NR2, name=\"S3987Nr2-RAMOS_heavy\"),\n",
    "#     list(base_path=BASE_PATH_NR2, name=\"S3987Nr2-RAMOS_light\")\n",
    ")\n",
    "\n",
    "EXCLUDE_FROM_DIVERSITY_ANALYSIS = c(\n",
    "    \"S3987Nr1-RAMOS_heavy\"\n",
    ")"
   ]
  },
  {
   "cell_type": "code",
   "execution_count": 165,
   "id": "35dd51fc-a9ea-4e20-9163-437850b4b0a4",
   "metadata": {},
   "outputs": [],
   "source": [
    "# Helpers\n",
    "get_path_sample <- function(sample_name, base_path = BASE_PATH) {\n",
    "    return(paste0(base_path, \"/\", sample_name))\n",
    "}\n",
    "\n",
    "get_path_fastq <- function(sample_name, type = \"raw\", base_path = BASE_PATH) {\n",
    "    \n",
    "    if (type == \"raw\") {\n",
    "        return(\n",
    "            paste0(\n",
    "                get_path_sample(sample_name, base_path),\n",
    "                \"/\", sample_name, \".1.fastq\"\n",
    "            )\n",
    "        )\n",
    "    } else if (type == \"primer_pass\") {\n",
    "        suffix = \".1_primers-pass.fastq\"\n",
    "    } else if (type == \"pair_pass\"){\n",
    "        suffix = \".1_primers-pass_pair-pass.fastq\"\n",
    "    } else if (type == \"under2\") {\n",
    "        suffix = \"_under-2.fastq\"\n",
    "    } else if (type == \"atleast2\") {\n",
    "        suffix = \"_atleast-2.fastq\"\n",
    "    } else {\n",
    "        stop(paste0(\"Unsupported fastq file type: \", type))\n",
    "    }\n",
    "    \n",
    "    return(\n",
    "        paste0(\n",
    "            get_path_sample(sample_name, base_path),\n",
    "            \"/\", \"presto\",\n",
    "            \"/\", sample_name, suffix\n",
    "        )\n",
    "    )\n",
    "}\n",
    "\n",
    "get_path_igblast <- function(sample_name, base_path = BASE_PATH) {\n",
    "    return(\n",
    "        paste0(\n",
    "            get_path_sample(sample_name, base_path), \n",
    "            \"/\", \"changeo_igblast\", \n",
    "            \"/\", sample_name, \"_db-pass_with_translation.tsv\"\n",
    "        )\n",
    "    )\n",
    "}\n",
    "\n",
    "get_path_clones <- function(sample_name, clone_file = \"groups\", base_path = BASE_PATH) {\n",
    "    \n",
    "    if (clone_file == \"groups\") {\n",
    "        suffix = \"_vjl_groups.tsv\"\n",
    "    } else if (clone_file == \"clones\") {\n",
    "        suffix = \"_with_clones.tsv\"\n",
    "    } else if (clone_file == \"counts\") {\n",
    "        return(\n",
    "            paste0(\n",
    "                get_path_sample(sample_name, base_path),\n",
    "                \"/\", \"clones\", \n",
    "                \"/\", \"diversity\",\n",
    "                \"/\", sample_name, \"_clone_counts.tsv\"\n",
    "            )\n",
    "        )\n",
    "    } else {\n",
    "        stop(paste0(\"Unknown clone_file type: \", clone_file))\n",
    "    }\n",
    "    \n",
    "    return(\n",
    "        paste0(\n",
    "            get_path_sample(sample_name, base_path),\n",
    "            \"/\", \"clones\", \n",
    "            \"/\", sample_name, suffix\n",
    "        )\n",
    "    )\n",
    "}\n",
    "\n",
    "get_path_coverages <- function(sample_name, base_path = BASE_PATH) {\n",
    "    return(\n",
    "        paste0(\n",
    "            get_path_sample(sample_name, base_path),\n",
    "            \"/\", \"clones\",\n",
    "            \"/\", \"diversity\",\n",
    "            \"/\", sample_name, \"_coverages.tsv\"\n",
    "        )\n",
    "    )\n",
    "}\n",
    "\n",
    "get_path_pngs <- function(sample_name, img_type = \"abundancy\", base_path = BASE_PATH) {\n",
    "    \n",
    "    if (img_type == \"abundancy\") {\n",
    "        suffix = \"_abundancy_curve.png\"\n",
    "    } else if (img_type == \"diversity\") {\n",
    "        suffix = \"_diversity.png\"\n",
    "    } else {\n",
    "        stop(\"Image type = \", img_type, \" is not supported.\")\n",
    "    }\n",
    "    \n",
    "    return(\n",
    "        paste0(\n",
    "            get_path_sample(sample_name, base_path),\n",
    "            \"/\", \"clones\",\n",
    "            \"/\", \"diversity\",\n",
    "            \"/\", sample_name, suffix\n",
    "        )\n",
    "    )\n",
    "}\n",
    "\n",
    "read_tsv <- function(filepath) {\n",
    "    return(read.csv(filepath, sep='\\t'))\n",
    "}"
   ]
  },
  {
   "cell_type": "markdown",
   "id": "47b738dd-92d8-4ef9-b452-bccad31e7663",
   "metadata": {},
   "source": [
    "### Characterize sequencing results for each sample"
   ]
  },
  {
   "cell_type": "code",
   "execution_count": 16,
   "id": "bf98f821-9610-4623-a6fd-257505f6e4c9",
   "metadata": {},
   "outputs": [],
   "source": [
    "count_reads_fastq <- function(fastq_path) {\n",
    "    return(\n",
    "        ShortRead::countFastq(fastq_path)$records\n",
    "    )\n",
    "}"
   ]
  },
  {
   "cell_type": "code",
   "execution_count": 17,
   "id": "021306a9-4829-4bb3-9696-085e97c5f035",
   "metadata": {},
   "outputs": [
    {
     "data": {
      "text/html": [
       "<table class=\"dataframe\">\n",
       "<caption>A data.frame: 4 x 6</caption>\n",
       "<thead>\n",
       "\t<tr><th></th><th scope=col>sample_name</th><th scope=col>raw</th><th scope=col>primer_pass</th><th scope=col>pair_pass</th><th scope=col>under2</th><th scope=col>atleast2</th></tr>\n",
       "\t<tr><th></th><th scope=col>&lt;chr&gt;</th><th scope=col>&lt;chr&gt;</th><th scope=col>&lt;chr&gt;</th><th scope=col>&lt;chr&gt;</th><th scope=col>&lt;chr&gt;</th><th scope=col>&lt;chr&gt;</th></tr>\n",
       "</thead>\n",
       "<tbody>\n",
       "\t<tr><th scope=row>1</th><td>S3987Nr1-PBMC1_heavy</td><td>293087</td><td>293087</td><td>293087</td><td>127350</td><td>14008</td></tr>\n",
       "\t<tr><th scope=row>2</th><td>S3987Nr1-PBMC1_light</td><td>264459</td><td>264459</td><td>264459</td><td>108203</td><td>13384</td></tr>\n",
       "\t<tr><th scope=row>3</th><td>S3987Nr1-RAMOS_heavy</td><td>160952</td><td>160952</td><td>160952</td><td>28    </td><td>5    </td></tr>\n",
       "\t<tr><th scope=row>4</th><td>S3987Nr1-RAMOS_light</td><td>69991 </td><td>69991 </td><td>69991 </td><td>25974 </td><td>3791 </td></tr>\n",
       "</tbody>\n",
       "</table>\n"
      ],
      "text/latex": [
       "A data.frame: 4 x 6\n",
       "\\begin{tabular}{r|llllll}\n",
       "  & sample\\_name & raw & primer\\_pass & pair\\_pass & under2 & atleast2\\\\\n",
       "  & <chr> & <chr> & <chr> & <chr> & <chr> & <chr>\\\\\n",
       "\\hline\n",
       "\t1 & S3987Nr1-PBMC1\\_heavy & 293087 & 293087 & 293087 & 127350 & 14008\\\\\n",
       "\t2 & S3987Nr1-PBMC1\\_light & 264459 & 264459 & 264459 & 108203 & 13384\\\\\n",
       "\t3 & S3987Nr1-RAMOS\\_heavy & 160952 & 160952 & 160952 & 28     & 5    \\\\\n",
       "\t4 & S3987Nr1-RAMOS\\_light & 69991  & 69991  & 69991  & 25974  & 3791 \\\\\n",
       "\\end{tabular}\n"
      ],
      "text/markdown": [
       "\n",
       "A data.frame: 4 x 6\n",
       "\n",
       "| <!--/--> | sample_name &lt;chr&gt; | raw &lt;chr&gt; | primer_pass &lt;chr&gt; | pair_pass &lt;chr&gt; | under2 &lt;chr&gt; | atleast2 &lt;chr&gt; |\n",
       "|---|---|---|---|---|---|---|\n",
       "| 1 | S3987Nr1-PBMC1_heavy | 293087 | 293087 | 293087 | 127350 | 14008 |\n",
       "| 2 | S3987Nr1-PBMC1_light | 264459 | 264459 | 264459 | 108203 | 13384 |\n",
       "| 3 | S3987Nr1-RAMOS_heavy | 160952 | 160952 | 160952 | 28     | 5     |\n",
       "| 4 | S3987Nr1-RAMOS_light | 69991  | 69991  | 69991  | 25974  | 3791  |\n",
       "\n"
      ],
      "text/plain": [
       "  sample_name          raw    primer_pass pair_pass under2 atleast2\n",
       "1 S3987Nr1-PBMC1_heavy 293087 293087      293087    127350 14008   \n",
       "2 S3987Nr1-PBMC1_light 264459 264459      264459    108203 13384   \n",
       "3 S3987Nr1-RAMOS_heavy 160952 160952      160952    28     5       \n",
       "4 S3987Nr1-RAMOS_light 69991  69991       69991     25974  3791    "
      ]
     },
     "metadata": {},
     "output_type": "display_data"
    }
   ],
   "source": [
    "res <- sapply(\n",
    "    SAMPLES,\n",
    "    function(sample) {\n",
    "        counts = cbind(\n",
    "            sample$name,\n",
    "            count_reads_fastq(get_path_fastq(sample$name, type = \"raw\", sample$base_path)),\n",
    "            count_reads_fastq(get_path_fastq(sample$name, type = \"primer_pass\", sample$base_path)),\n",
    "            count_reads_fastq(get_path_fastq(sample$name, type = \"pair_pass\", sample$base_path)),\n",
    "            count_reads_fastq(get_path_fastq(sample$name, type = \"under2\", sample$base_path)),\n",
    "            count_reads_fastq(get_path_fastq(sample$name, type = \"atleast2\", sample$base_path))\n",
    "        )\n",
    "        return(counts)\n",
    "    }\n",
    ")\n",
    "\n",
    "res <- data.frame(t(res))\n",
    "colnames(res) = c(\"sample_name\", \"raw\", \"primer_pass\", \"pair_pass\", \"under2\", \"atleast2\")\n",
    "head(res)"
   ]
  },
  {
   "cell_type": "markdown",
   "id": "db6ff740-53a4-472b-93db-9dacb7d962ec",
   "metadata": {},
   "source": [
    "### Compare clone counts"
   ]
  },
  {
   "cell_type": "code",
   "execution_count": 173,
   "id": "70b6c84f-9b77-473e-8b37-b231f64b9a36",
   "metadata": {},
   "outputs": [
    {
     "name": "stdout",
     "output_type": "stream",
     "text": [
      "[1] \"Filepath not found: /data/samples/AIRR-Seq/OURS/S3987Nr1/S3987Nr1-RAMOS_heavy/clones/diversity/S3987Nr1-RAMOS_heavy_clone_counts.tsv\"\n"
     ]
    },
    {
     "data": {
      "text/html": [
       "<table class=\"dataframe\">\n",
       "<caption>A data.frame: 18 x 6</caption>\n",
       "<thead>\n",
       "\t<tr><th scope=col>sample$name</th><th scope=col>clone_id</th><th scope=col>seq_count</th><th scope=col>copy_count</th><th scope=col>seq_freq</th><th scope=col>copy_freq</th></tr>\n",
       "\t<tr><th scope=col>&lt;chr&gt;</th><th scope=col>&lt;int&gt;</th><th scope=col>&lt;int&gt;</th><th scope=col>&lt;int&gt;</th><th scope=col>&lt;dbl&gt;</th><th scope=col>&lt;dbl&gt;</th></tr>\n",
       "</thead>\n",
       "<tbody>\n",
       "\t<tr><td>S3987Nr1-PBMC1_heavy</td><td> 556</td><td>1628</td><td>24866</td><td>0.1248370524</td><td>0.1944251144</td></tr>\n",
       "\t<tr><td>S3987Nr1-PBMC1_heavy</td><td> 374</td><td> 718</td><td>10748</td><td>0.0550571275</td><td>0.0840376872</td></tr>\n",
       "\t<tr><td>S3987Nr1-PBMC1_heavy</td><td> 900</td><td> 781</td><td> 8913</td><td>0.0598880454</td><td>0.0696899801</td></tr>\n",
       "\t<tr><td>S3987Nr1-PBMC1_heavy</td><td> 453</td><td> 533</td><td> 8079</td><td>0.0408710988</td><td>0.0631690058</td></tr>\n",
       "\t<tr><td>S3987Nr1-PBMC1_heavy</td><td>1316</td><td> 536</td><td> 7377</td><td>0.0411011426</td><td>0.0576801282</td></tr>\n",
       "\t<tr><td>S3987Nr1-PBMC1_heavy</td><td>1216</td><td> 333</td><td> 3103</td><td>0.0255348516</td><td>0.0242620900</td></tr>\n",
       "\t<tr><td>S3987Nr1-PBMC1_light</td><td> 148</td><td>2122</td><td>29546</td><td>0.1661316840</td><td>0.2304374615</td></tr>\n",
       "\t<tr><td>S3987Nr1-PBMC1_light</td><td> 268</td><td> 764</td><td>10638</td><td>0.0598136695</td><td>0.0829687171</td></tr>\n",
       "\t<tr><td>S3987Nr1-PBMC1_light</td><td> 171</td><td> 667</td><td> 7790</td><td>0.0522195256</td><td>0.0607563740</td></tr>\n",
       "\t<tr><td>S3987Nr1-PBMC1_light</td><td> 195</td><td> 715</td><td> 7083</td><td>0.0559774524</td><td>0.0552422846</td></tr>\n",
       "\t<tr><td>S3987Nr1-PBMC1_light</td><td> 264</td><td> 777</td><td> 6767</td><td>0.0608314413</td><td>0.0527777128</td></tr>\n",
       "\t<tr><td>S3987Nr1-PBMC1_light</td><td> 301</td><td> 451</td><td> 5654</td><td>0.0353088546</td><td>0.0440971166</td></tr>\n",
       "\t<tr><td>S3987Nr1-RAMOS_light</td><td>   1</td><td>2725</td><td>34447</td><td>0.9876766945</td><td>0.9977118693</td></tr>\n",
       "\t<tr><td>S3987Nr1-RAMOS_light</td><td>  24</td><td>   5</td><td>   12</td><td>0.0018122508</td><td>0.0003475642</td></tr>\n",
       "\t<tr><td>S3987Nr1-RAMOS_light</td><td>  27</td><td>   2</td><td>    7</td><td>0.0007249003</td><td>0.0002027458</td></tr>\n",
       "\t<tr><td>S3987Nr1-RAMOS_light</td><td>   5</td><td>   1</td><td>    5</td><td>0.0003624502</td><td>0.0001448184</td></tr>\n",
       "\t<tr><td>S3987Nr1-RAMOS_light</td><td>   8</td><td>   2</td><td>    4</td><td>0.0007249003</td><td>0.0001158547</td></tr>\n",
       "\t<tr><td>S3987Nr1-RAMOS_light</td><td>  14</td><td>   1</td><td>    4</td><td>0.0003624502</td><td>0.0001158547</td></tr>\n",
       "</tbody>\n",
       "</table>\n"
      ],
      "text/latex": [
       "A data.frame: 18 x 6\n",
       "\\begin{tabular}{llllll}\n",
       " sample\\$name & clone\\_id & seq\\_count & copy\\_count & seq\\_freq & copy\\_freq\\\\\n",
       " <chr> & <int> & <int> & <int> & <dbl> & <dbl>\\\\\n",
       "\\hline\n",
       "\t S3987Nr1-PBMC1\\_heavy &  556 & 1628 & 24866 & 0.1248370524 & 0.1944251144\\\\\n",
       "\t S3987Nr1-PBMC1\\_heavy &  374 &  718 & 10748 & 0.0550571275 & 0.0840376872\\\\\n",
       "\t S3987Nr1-PBMC1\\_heavy &  900 &  781 &  8913 & 0.0598880454 & 0.0696899801\\\\\n",
       "\t S3987Nr1-PBMC1\\_heavy &  453 &  533 &  8079 & 0.0408710988 & 0.0631690058\\\\\n",
       "\t S3987Nr1-PBMC1\\_heavy & 1316 &  536 &  7377 & 0.0411011426 & 0.0576801282\\\\\n",
       "\t S3987Nr1-PBMC1\\_heavy & 1216 &  333 &  3103 & 0.0255348516 & 0.0242620900\\\\\n",
       "\t S3987Nr1-PBMC1\\_light &  148 & 2122 & 29546 & 0.1661316840 & 0.2304374615\\\\\n",
       "\t S3987Nr1-PBMC1\\_light &  268 &  764 & 10638 & 0.0598136695 & 0.0829687171\\\\\n",
       "\t S3987Nr1-PBMC1\\_light &  171 &  667 &  7790 & 0.0522195256 & 0.0607563740\\\\\n",
       "\t S3987Nr1-PBMC1\\_light &  195 &  715 &  7083 & 0.0559774524 & 0.0552422846\\\\\n",
       "\t S3987Nr1-PBMC1\\_light &  264 &  777 &  6767 & 0.0608314413 & 0.0527777128\\\\\n",
       "\t S3987Nr1-PBMC1\\_light &  301 &  451 &  5654 & 0.0353088546 & 0.0440971166\\\\\n",
       "\t S3987Nr1-RAMOS\\_light &    1 & 2725 & 34447 & 0.9876766945 & 0.9977118693\\\\\n",
       "\t S3987Nr1-RAMOS\\_light &   24 &    5 &    12 & 0.0018122508 & 0.0003475642\\\\\n",
       "\t S3987Nr1-RAMOS\\_light &   27 &    2 &     7 & 0.0007249003 & 0.0002027458\\\\\n",
       "\t S3987Nr1-RAMOS\\_light &    5 &    1 &     5 & 0.0003624502 & 0.0001448184\\\\\n",
       "\t S3987Nr1-RAMOS\\_light &    8 &    2 &     4 & 0.0007249003 & 0.0001158547\\\\\n",
       "\t S3987Nr1-RAMOS\\_light &   14 &    1 &     4 & 0.0003624502 & 0.0001158547\\\\\n",
       "\\end{tabular}\n"
      ],
      "text/markdown": [
       "\n",
       "A data.frame: 18 x 6\n",
       "\n",
       "| sample$name &lt;chr&gt; | clone_id &lt;int&gt; | seq_count &lt;int&gt; | copy_count &lt;int&gt; | seq_freq &lt;dbl&gt; | copy_freq &lt;dbl&gt; |\n",
       "|---|---|---|---|---|---|\n",
       "| S3987Nr1-PBMC1_heavy |  556 | 1628 | 24866 | 0.1248370524 | 0.1944251144 |\n",
       "| S3987Nr1-PBMC1_heavy |  374 |  718 | 10748 | 0.0550571275 | 0.0840376872 |\n",
       "| S3987Nr1-PBMC1_heavy |  900 |  781 |  8913 | 0.0598880454 | 0.0696899801 |\n",
       "| S3987Nr1-PBMC1_heavy |  453 |  533 |  8079 | 0.0408710988 | 0.0631690058 |\n",
       "| S3987Nr1-PBMC1_heavy | 1316 |  536 |  7377 | 0.0411011426 | 0.0576801282 |\n",
       "| S3987Nr1-PBMC1_heavy | 1216 |  333 |  3103 | 0.0255348516 | 0.0242620900 |\n",
       "| S3987Nr1-PBMC1_light |  148 | 2122 | 29546 | 0.1661316840 | 0.2304374615 |\n",
       "| S3987Nr1-PBMC1_light |  268 |  764 | 10638 | 0.0598136695 | 0.0829687171 |\n",
       "| S3987Nr1-PBMC1_light |  171 |  667 |  7790 | 0.0522195256 | 0.0607563740 |\n",
       "| S3987Nr1-PBMC1_light |  195 |  715 |  7083 | 0.0559774524 | 0.0552422846 |\n",
       "| S3987Nr1-PBMC1_light |  264 |  777 |  6767 | 0.0608314413 | 0.0527777128 |\n",
       "| S3987Nr1-PBMC1_light |  301 |  451 |  5654 | 0.0353088546 | 0.0440971166 |\n",
       "| S3987Nr1-RAMOS_light |    1 | 2725 | 34447 | 0.9876766945 | 0.9977118693 |\n",
       "| S3987Nr1-RAMOS_light |   24 |    5 |    12 | 0.0018122508 | 0.0003475642 |\n",
       "| S3987Nr1-RAMOS_light |   27 |    2 |     7 | 0.0007249003 | 0.0002027458 |\n",
       "| S3987Nr1-RAMOS_light |    5 |    1 |     5 | 0.0003624502 | 0.0001448184 |\n",
       "| S3987Nr1-RAMOS_light |    8 |    2 |     4 | 0.0007249003 | 0.0001158547 |\n",
       "| S3987Nr1-RAMOS_light |   14 |    1 |     4 | 0.0003624502 | 0.0001158547 |\n",
       "\n"
      ],
      "text/plain": [
       "   sample$name          clone_id seq_count copy_count seq_freq     copy_freq   \n",
       "1  S3987Nr1-PBMC1_heavy  556     1628      24866      0.1248370524 0.1944251144\n",
       "2  S3987Nr1-PBMC1_heavy  374      718      10748      0.0550571275 0.0840376872\n",
       "3  S3987Nr1-PBMC1_heavy  900      781       8913      0.0598880454 0.0696899801\n",
       "4  S3987Nr1-PBMC1_heavy  453      533       8079      0.0408710988 0.0631690058\n",
       "5  S3987Nr1-PBMC1_heavy 1316      536       7377      0.0411011426 0.0576801282\n",
       "6  S3987Nr1-PBMC1_heavy 1216      333       3103      0.0255348516 0.0242620900\n",
       "7  S3987Nr1-PBMC1_light  148     2122      29546      0.1661316840 0.2304374615\n",
       "8  S3987Nr1-PBMC1_light  268      764      10638      0.0598136695 0.0829687171\n",
       "9  S3987Nr1-PBMC1_light  171      667       7790      0.0522195256 0.0607563740\n",
       "10 S3987Nr1-PBMC1_light  195      715       7083      0.0559774524 0.0552422846\n",
       "11 S3987Nr1-PBMC1_light  264      777       6767      0.0608314413 0.0527777128\n",
       "12 S3987Nr1-PBMC1_light  301      451       5654      0.0353088546 0.0440971166\n",
       "13 S3987Nr1-RAMOS_light    1     2725      34447      0.9876766945 0.9977118693\n",
       "14 S3987Nr1-RAMOS_light   24        5         12      0.0018122508 0.0003475642\n",
       "15 S3987Nr1-RAMOS_light   27        2          7      0.0007249003 0.0002027458\n",
       "16 S3987Nr1-RAMOS_light    5        1          5      0.0003624502 0.0001448184\n",
       "17 S3987Nr1-RAMOS_light    8        2          4      0.0007249003 0.0001158547\n",
       "18 S3987Nr1-RAMOS_light   14        1          4      0.0003624502 0.0001158547"
      ]
     },
     "metadata": {},
     "output_type": "display_data"
    }
   ],
   "source": [
    "sample = SAMPLES[[4]]\n",
    "\n",
    "clone_counts = data.frame()\n",
    "for (i in 1:length(SAMPLES)) {\n",
    "    \n",
    "    sample = SAMPLES[[i]]\n",
    "    filepath = get_path_clones(sample$name, \"counts\", sample$base_path)\n",
    "    \n",
    "    if (file.exists(filepath)) {\n",
    "        df = head(read_tsv(filepath))\n",
    "        df_ann = cbind(sample$name, df)\n",
    "        clone_counts <- plyr::rbind.fill(clone_counts, df_ann)\n",
    "    } else {\n",
    "        print(paste0(\"Filepath not found: \", filepath))\n",
    "    }\n",
    "}\n",
    "\n",
    "clone_counts"
   ]
  },
  {
   "cell_type": "markdown",
   "id": "e5724c1c-8d0f-4973-86e2-042be109923f",
   "metadata": {},
   "source": [
    "### Abundancy and diversity comparisons among samples"
   ]
  },
  {
   "cell_type": "code",
   "execution_count": 22,
   "id": "cec4b962-3ce8-475e-9a7c-e53fa10516cc",
   "metadata": {},
   "outputs": [],
   "source": [
    "# Get data\n",
    "sample = SAMPLES[[1]]\n",
    "\n",
    "igblast <- read_tsv(\n",
    "    get_path_igblast(sample$name, sample$base_path)\n",
    ")\n",
    "\n",
    "clone_groups <- read_tsv(\n",
    "    get_path_clones(sample$name, \"groups\", sample$base_path)\n",
    ")\n",
    "\n",
    "clones <- read_tsv(\n",
    "    get_path_clones(sample$name, \"clones\", sample$base_path)\n",
    ")\n",
    "\n",
    "abundancy_curve_png <- \n",
    "\n",
    "# print(\"IgBlast\");colnames(igblast);head(igblast);\n",
    "# print(\"Clone groups\");colnames(clone_groups);head(clone_groups);\n",
    "# print(\"Clones\");colnames(clones);head(clones)"
   ]
  },
  {
   "cell_type": "code",
   "execution_count": 108,
   "id": "5ce3600f-8ee2-4bf8-a3d3-6824b04d3895",
   "metadata": {},
   "outputs": [],
   "source": [
    "coverages <- lapply(\n",
    "    SAMPLES,\n",
    "    function(sample, exclude) {\n",
    "        if (sample$name %in% exclude) {\n",
    "            return(NULL)\n",
    "        } else {\n",
    "            return((read_tsv(get_path_coverages(sample$name, sample$base_path))))\n",
    "        }\n",
    "    },\n",
    "    EXCLUDE_FROM_DIVERSITY_ANALYSIS\n",
    ")\n",
    "\n",
    "coverages_df <- data.frame()\n",
    "for (i in 1:length(SAMPLES)) {\n",
    "    sample <- SAMPLES[[i]]\n",
    "    cov <- coverages[[i]]\n",
    "    if (!is.null(cov)) {\n",
    "        cov_annotated <- rbind(sample$name, cov)\n",
    "        coverages_df <- plyr::rbind.fill(coverages_df, cov_annotated)\n",
    "    } else {\n",
    "        coverages_df <- rbind(coverages_df, sample$name)\n",
    "    }\n",
    "}\n",
    "coverages_df"
   ]
  },
  {
   "cell_type": "code",
   "execution_count": null,
   "id": "3689781a-97ec-4eab-83c1-648c07917100",
   "metadata": {},
   "outputs": [],
   "source": [
    "magick::image_append(magick::image_scale(img, \"100\"), stack = TRUE)"
   ]
  },
  {
   "cell_type": "code",
   "execution_count": 159,
   "id": "071940bd-8042-4f34-9915-5cc74eeb0d90",
   "metadata": {},
   "outputs": [],
   "source": [
    "img1 = magick::image_read(get_path_pngs(SAMPLES[[1]]$name, \"abundancy\", SAMPLES[[1]]$base_path))\n",
    "img2 = magick::image_read(get_path_pngs(SAMPLES[[2]]$name, \"abundancy\", SAMPLES[[2]]$base_path))\n",
    "img4 = magick::image_read(get_path_pngs(SAMPLES[[4]]$name, \"abundancy\", SAMPLES[[4]]$base_path))\n",
    "comb_img = magick::image_append(c(img1, img2, img4), stack=TRUE)\n",
    "magick::image_write(comb_img, path = \"tiger.png\", format = \"png\")"
   ]
  },
  {
   "cell_type": "code",
   "execution_count": 126,
   "id": "2dfdcf63-0846-478a-9004-e21a81b32d56",
   "metadata": {},
   "outputs": [
    {
     "data": {
      "image/png": "[encoded data removed]"
     },
     "metadata": {},
     "output_type": "display_data"
    },
    {
     "data": {
      "text/plain": [
       "\u001b[90m# A tibble: 1 × 7\u001b[39m\n",
       "  format width height colorspace matte filesize density\n",
       "  \u001b[3m\u001b[90m<chr>\u001b[39m\u001b[23m  \u001b[3m\u001b[90m<int>\u001b[39m\u001b[23m  \u001b[3m\u001b[90m<int>\u001b[39m\u001b[23m \u001b[3m\u001b[90m<chr>\u001b[39m\u001b[23m      \u001b[3m\u001b[90m<lgl>\u001b[39m\u001b[23m    \u001b[3m\u001b[90m<int>\u001b[39m\u001b[23m \u001b[3m\u001b[90m<chr>\u001b[39m\u001b[23m  \n",
       "\u001b[90m1\u001b[39m PNG      800   \u001b[4m1\u001b[24m800 sRGB       FALSE        0 72x72  "
      ]
     },
     "metadata": {},
     "output_type": "display_data"
    }
   ],
   "source": [
    "img1 = magick::image_read(get_path_pngs(SAMPLES[[1]]$name, \"diversity\", SAMPLES[[1]]$base_path))\n",
    "img2 = magick::image_read(get_path_pngs(SAMPLES[[2]]$name, \"diversity\", SAMPLES[[2]]$base_path))\n",
    "img4 = magick::image_read(get_path_pngs(SAMPLES[[4]]$name, \"diversity\", SAMPLES[[4]]$base_path))\n",
    "\n",
    "comb_img = comb_img = magick::image_append(c(img1, img2, img4), stack=TRUE)\n",
    "magick::image_write(comb_img, path = \"tiger.png\", format = \"png\")"
   ]
  },
  {
   "cell_type": "code",
   "execution_count": null,
   "id": "9cc20ffe-3932-4725-871f-78952b9e2d73",
   "metadata": {},
   "outputs": [],
   "source": []
  }
 ],
 "metadata": {
  "kernelspec": {
   "display_name": "R",
   "language": "R",
   "name": "ir"
  },
  "language_info": {
   "codemirror_mode": "r",
   "file_extension": ".r",
   "mimetype": "text/x-r-source",
   "name": "R",
   "pygments_lexer": "r",
   "version": "4.0.3"
  }
 },
 "nbformat": 4,
 "nbformat_minor": 5
}
