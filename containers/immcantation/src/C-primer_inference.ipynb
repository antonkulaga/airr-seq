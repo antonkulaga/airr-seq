{
 "cells": [
  {
   "cell_type": "code",
   "execution_count": 17,
   "id": "79232cde-ea17-4b83-b186-6e7a54517d54",
   "metadata": {},
   "outputs": [],
   "source": [
    "from pathlib import Path\n",
    "\n",
    "from Bio.Seq import Seq\n",
    "from Bio.SeqRecord import SeqRecord\n",
    "from Bio import SeqIO"
   ]
  },
  {
   "cell_type": "code",
   "execution_count": 18,
   "id": "18dd5bfe-3030-4c42-9b03-6383ead3bb78",
   "metadata": {},
   "outputs": [],
   "source": [
    "def extract_cprimer_from_record(record):\n",
    "    return record.id.split(\"|\")[1].split(\"=\")[-1]\n",
    "\n",
    "def reverse_complement(seq_str):\n",
    "    return Seq(seq_str).reverse_complement().__str__()"
   ]
  },
  {
   "cell_type": "code",
   "execution_count": 20,
   "id": "37d05c94-9570-41d8-9fc1-c31224d9a488",
   "metadata": {},
   "outputs": [],
   "source": [
    "fp = Path(\"/data/samples/AIRR-Seq/OURS/S3987Nr2/S3987Nr2-PBMC1_heavy/presto/S3987Nr2-PBMC1_heavy_atleast-2.fastq\")\n",
    "records = list(SeqIO.parse(fp, \"fastq\"))\n",
    "\n",
    "cprimers = list(map(extract_cprimer_from_record, records))\n",
    "cprimers_revc = list(map(reverse_complement, cprimers))\n",
    "\n",
    "cprimers_revc_records = []\n",
    "for i, seq_str in enumerate(cprimers_revc):\n",
    "    cprimers_revc_records.append(\n",
    "        SeqRecord(\n",
    "            Seq(seq_str),\n",
    "            id = str(i),\n",
    "            description = \"\"\n",
    "        )\n",
    "    )\n",
    "    \n",
    "SeqIO.write(cprimers_revc_records, \"cprimers_revc.fasta\", \"fasta\")"
   ]
  }
 ],
 "metadata": {
  "kernelspec": {
   "display_name": "Python 3",
   "language": "python",
   "name": "python3"
  },
  "language_info": {
   "codemirror_mode": {
    "name": "ipython",
    "version": 3
   },
   "file_extension": ".py",
   "mimetype": "text/x-python",
   "name": "python",
   "nbconvert_exporter": "python",
   "pygments_lexer": "ipython3",
   "version": "3.9.1"
  }
 },
 "nbformat": 4,
 "nbformat_minor": 5
}
