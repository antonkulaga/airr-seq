{
 "cells": [
  {
   "cell_type": "code",
   "execution_count": 1,
   "id": "2d5b4556-0236-4260-a961-21c90144e7b9",
   "metadata": {},
   "outputs": [],
   "source": [
    "from pathlib import Path\n",
    "\n",
    "import pandas as pd\n",
    "\n",
    "from Bio.Seq import Seq\n",
    "from Bio.SeqRecord import SeqRecord\n",
    "from Bio import SeqIO"
   ]
  },
  {
   "cell_type": "code",
   "execution_count": 2,
   "id": "bb5f8772-3c75-4be4-b38c-ccd8b3582f84",
   "metadata": {},
   "outputs": [],
   "source": [
    "def write_rf_hchain_to_fasta(df, fp):\n",
    "    records = []\n",
    "    for _, s in df[[\"CloneID\", \"NucSeqVH\"]].iterrows():\n",
    "        hchain_seq = s[\"NucSeqVH\"]\n",
    "        clone_id = s[\"CloneID\"]\n",
    "        if len(hchain_seq) > 1:\n",
    "            records.append(SeqRecord(\n",
    "                id=f\"{clone_id}_heavy\",\n",
    "                seq=Seq(hchain_seq),\n",
    "                description=\"\",\n",
    "            ))\n",
    "    SeqIO.write(records, fp, \"fasta\")"
   ]
  },
  {
   "cell_type": "code",
   "execution_count": 3,
   "id": "24830db4-9630-444b-a564-7452844b5113",
   "metadata": {},
   "outputs": [],
   "source": [
    "public_rfs_dir = Path(\"/data/samples/AIRR-Seq/OURS/public-rfs\")\n",
    "dataset_path = public_rfs_dir / \"Falkenburg_database_rf_sequences_sheet1.tsv\"\n",
    "hchain_fasta_path = public_rfs_dir / \"Falkenburg_hchains.fasta\"\n",
    "hchain_airr_path = public_rfs_dir / \"Falkenburg_hchains_igblast_airr.tsv\"\n",
    "\n",
    "df_falk = pd.read_csv(dataset_path, sep = '\\t')\n",
    "write_rf_hchain_to_fasta(df_falk, hchain_fasta_path)"
   ]
  },
  {
   "cell_type": "code",
   "execution_count": 4,
   "id": "db83ba73-4c02-4d84-812e-b06df6fa485d",
   "metadata": {},
   "outputs": [
    {
     "name": "stdout",
     "output_type": "stream",
     "text": [
      "   START> AssignGenes\n",
      " COMMAND> igblast\n",
      " VERSION> 1.17.0\n",
      "    FILE> Falkenburg_hchains.fasta\n",
      "ORGANISM> human\n",
      "    LOCI> ig\n",
      "   NPROC> 8\n",
      "\n",
      "PROGRESS> 11:41:50 |Done                     | 0.0 min\n",
      "\n",
      "OUTPUT> Falkenburg_hchains_igblast_airr.tsv\n",
      "   END> AssignGenes\n",
      "\n"
     ]
    }
   ],
   "source": [
    "!AssignGenes.py igblast \\\n",
    "    -s {hchain_fasta_path} \\\n",
    "    -o {hchain_airr_path} \\\n",
    "    -b /usr/local/share/igblast \\\n",
    "    --organism human \\\n",
    "    --loci ig \\\n",
    "    --format airr \\\n",
    "    --nproc 8"
   ]
  },
  {
   "cell_type": "code",
   "execution_count": null,
   "id": "b8620d7c-047b-411d-ad3e-2df724d406f1",
   "metadata": {},
   "outputs": [],
   "source": []
  }
 ],
 "metadata": {
  "kernelspec": {
   "display_name": "Python 3",
   "language": "python",
   "name": "python3"
  },
  "language_info": {
   "codemirror_mode": {
    "name": "ipython",
    "version": 3
   },
   "file_extension": ".py",
   "mimetype": "text/x-python",
   "name": "python",
   "nbconvert_exporter": "python",
   "pygments_lexer": "ipython3",
   "version": "3.9.1"
  }
 },
 "nbformat": 4,
 "nbformat_minor": 5
}
