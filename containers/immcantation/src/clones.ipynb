{
 "cells": [
  {
   "cell_type": "code",
   "execution_count": 1,
   "id": "b41a8dc4-3008-49a9-82b6-055d0d9b9723",
   "metadata": {},
   "outputs": [],
   "source": [
    "include <- function(pkg) {\n",
    "  if (!suppressMessages(require(pkg, character.only = TRUE)))\n",
    "    install.packages(pkg, character.only = TRUE)\n",
    "  suppressMessages(library(pkg, pkg, character.only = TRUE))\n",
    "}\n",
    "include(\"docopt\")\n",
    "include(\"stringr\")\n",
    "include(\"alakazam\")\n",
    "include(\"scoper\")\n",
    "include(\"dplyr\")"
   ]
  },
  {
   "cell_type": "code",
   "execution_count": 21,
   "id": "7c9d9845-f848-4427-9cd4-c1384d515e20",
   "metadata": {},
   "outputs": [],
   "source": [
    "doc <- \"Usage:\n",
    "  clones.R [--name <name>] [--binwidth <binwidth>] [--wd <wd>][--suffix <suffix>] <tsv> \n",
    "\n",
    "  Options:   \n",
    "   -w --wd <wd> [default: .]\n",
    "   -n --name <name> Name of the sample\n",
    "   -b --binwidth Width of the bin in plotting .\n",
    "   [type: num] [default: 0.02]\n",
    "   -s --suffix <suffix> [default: _with_clones].\n",
    "   -h --help     Show this screen.\""
   ]
  },
  {
   "cell_type": "code",
   "execution_count": 24,
   "id": "e091d705-5092-45f2-9c82-e92282699b0b",
   "metadata": {},
   "outputs": [
    {
     "name": "stdout",
     "output_type": "stream",
     "text": [
      "[1] \"--suffix _with_clones --name S3987Nr1-PBMC_heavy /data/samples/AIRR-Seq/OURS/S3987Nr1/S3987Nr1-PBMC_heavy/changeo_igblast/S3987Nr1-PBMC_heavy_f_parse-select_with_translation.tsv\"\n"
     ]
    }
   ],
   "source": [
    "debug <- TRUE\n",
    "if (debug == TRUE) {\n",
    "  tsv <- file.path(\"/data\", \"samples\", \"AIRR-Seq\", \"OURS\", \"S3987Nr1\", \"S3987Nr1-PBMC_heavy\", \"changeo_igblast\", \"S3987Nr1-PBMC_heavy_f_parse-select_with_translation.tsv\")  # 'clones', 'changeo_clone',  'our_pbmc_germ-pass.tsv')    \n",
    "  args <- paste(\"--suffix _with_clones --name S3987Nr1-PBMC_heavy\", tsv)\n",
    "  print(args)\n",
    "  values <- docopt(doc, args = args, version = \"0.1\")\n",
    "} else {\n",
    "  values <- docopt(doc, version = \"0.1\")\n",
    "}"
   ]
  },
  {
   "cell_type": "code",
   "execution_count": 25,
   "id": "624dab2f-c798-4013-9313-817703388fc9",
   "metadata": {},
   "outputs": [],
   "source": [
    "tsv <- values$tsv\n",
    "name <- values$name\n",
    "binwidth <- as.numeric(values$binwidth)"
   ]
  },
  {
   "cell_type": "markdown",
   "id": "c2a7520c-5cfb-4dd8-bb46-9d8d97cd9969",
   "metadata": {},
   "source": [
    "### Spectral clone analysis ###"
   ]
  },
  {
   "cell_type": "code",
   "execution_count": 13,
   "id": "fe34517a-b512-4d8f-b53a-3c4844067bee",
   "metadata": {},
   "outputs": [
    {
     "name": "stdout",
     "output_type": "stream",
     "text": [
      "[1] \"starting spectral analyzis...\"\n"
     ]
    }
   ],
   "source": [
    "print(\"starting spectral analyzis...\")"
   ]
  },
  {
   "cell_type": "code",
   "execution_count": 6,
   "id": "1376b973-d70a-4984-9265-77c9f414873b",
   "metadata": {},
   "outputs": [
    {
     "name": "stderr",
     "output_type": "stream",
     "text": [
      "Running defineClonesScoper in bulk mode\n",
      "\n"
     ]
    }
   ],
   "source": [
    "db <- readChangeoDb(tsv)\n",
    "# Clonal assignment using identical nucleotide sequences\n",
    "results <- spectralClones(db, \"vj\")"
   ]
  },
  {
   "cell_type": "code",
   "execution_count": 7,
   "id": "221da383-9b24-4d2a-8277-a2635df5964f",
   "metadata": {},
   "outputs": [
    {
     "name": "stdout",
     "output_type": "stream",
     "text": [
      "[1] \"writing vjl groups S3987Nr1-PBMC_heavy_vjl_groups.tsv\"\n",
      "[1] \"writing spectral analyzes results S3987Nr1-PBMC_heavy_with_clones.tsv\"\n"
     ]
    }
   ],
   "source": [
    "print(paste(\"writing vjl groups\", file.path(paste0(name, \"_vjl_groups\", \".tsv\"))))\n",
    "write.table(results@vjl_groups, file = file.path(paste0(name, \"_vjl_groups\", \".tsv\")), quote = FALSE, row.names = FALSE, sep = \"\\t\")\n",
    "print(paste(\"writing spectral analyzes results\", file.path(paste0(name, values$suffix, \".tsv\"))))\n",
    "writeChangeoDb(results@db, file.path(paste0(name, values$suffix, \".tsv\")))"
   ]
  },
  {
   "cell_type": "code",
   "execution_count": 27,
   "id": "3a69485f-d0ae-4174-9b17-6480c322139a",
   "metadata": {},
   "outputs": [
    {
     "name": "stdout",
     "output_type": "stream",
     "text": [
      "[1] \"writing spectral analyzes picture S3987Nr1-PBMC_heavy_with_clones.png\"\n",
      "[1] \"binwidth is 0.02\"\n"
     ]
    },
    {
     "data": {
      "text/html": [
       "<strong>png:</strong> 2"
      ],
      "text/latex": [
       "\\textbf{png:} 2"
      ],
      "text/markdown": [
       "**png:** 2"
      ],
      "text/plain": [
       "png \n",
       "  2 "
      ]
     },
     "metadata": {},
     "output_type": "display_data"
    }
   ],
   "source": [
    "print(paste(\"writing spectral analyzes picture\", file.path(paste0(name, values$suffix, \".png\"))))\n",
    "png(file = paste0(name, values$suffix, \".png\"), width = 800, height = 600)\n",
    "if (binwidth > 0) {\n",
    "    print(paste(\"binwidth is\", binwidth))\n",
    "  plot(results, binwidth = binwidth)\n",
    "} else plot(results)\n",
    "if (debug == TRUE) {\n",
    "  dev.off()\n",
    "}"
   ]
  },
  {
   "cell_type": "markdown",
   "id": "db46bff9-3b92-4cf8-8181-6b7b57ac488b",
   "metadata": {},
   "source": [
    "### Compute counts ###"
   ]
  },
  {
   "cell_type": "code",
   "execution_count": 30,
   "id": "0f361615-85cc-42c2-82a8-605d23eb86b1",
   "metadata": {},
   "outputs": [
    {
     "name": "stdout",
     "output_type": "stream",
     "text": [
      "[1] \"Computing clonotypes counts\"\n",
      "[1] \"Clonotypes counts are written to S3987Nr1-PBMC_heavy_clone_counts.tsv\"\n"
     ]
    }
   ],
   "source": [
    "print(\"Computing clonotypes counts\")\n",
    "counts <- countClones(results@db, copy = \"duplicate_count\")\n",
    "write.table(counts, file = file.path(paste0(name, \"_clone_counts\", \".tsv\")), quote = FALSE, row.names = FALSE, sep = \"\\t\")\n",
    "print(paste(\"Clonotypes counts are written to\",file.path(paste0(name, \"_clone_counts\", \".tsv\"))))"
   ]
  },
  {
   "cell_type": "markdown",
   "id": "3b3087fa-17bc-4211-9d45-c66dc9322f41",
   "metadata": {},
   "source": [
    "### Calculate abundancies ###"
   ]
  },
  {
   "cell_type": "code",
   "execution_count": 32,
   "id": "a526b0c7-2195-484a-bb89-05c24738eff4",
   "metadata": {},
   "outputs": [
    {
     "name": "stdout",
     "output_type": "stream",
     "text": [
      "[1] \"Calculates abundancy with 95% confidence interval via 200 bootstrap realizations\"\n",
      "[1] \"abundances curve values are written to S3987Nr1-PBMC_heavy_abundance_curve.tsv\"\n"
     ]
    }
   ],
   "source": [
    "print(\"Calculates abundancy with 95% confidence interval via 200 bootstrap realizations\")\n",
    "curve <- estimateAbundance(results@db, ci = 0.95, nboot = 200, clone = \"clone_id\")\n",
    "write.table(curve@abundance, file = file.path(paste0(name, \"_abundance_curve\", \".tsv\")), quote = FALSE, row.names = FALSE, sep = \"\\t\")\n",
    "print(paste(\"abundances curve values are written to\",file.path(paste0(name, \"_abundance_curve\", \".tsv\"))))"
   ]
  },
  {
   "cell_type": "code",
   "execution_count": 33,
   "id": "8bdf5003-9f20-4802-9e29-2793ad2f6878",
   "metadata": {},
   "outputs": [
    {
     "data": {
      "text/html": [
       "<strong>png:</strong> 2"
      ],
      "text/latex": [
       "\\textbf{png:} 2"
      ],
      "text/markdown": [
       "**png:** 2"
      ],
      "text/plain": [
       "png \n",
       "  2 "
      ]
     },
     "metadata": {},
     "output_type": "display_data"
    },
    {
     "name": "stdout",
     "output_type": "stream",
     "text": [
      "[1] \"abundances curve chart is written to S3987Nr1-PBMC_heavy_abundance_curve.png\"\n"
     ]
    }
   ],
   "source": [
    "sample_colors <- c(`-1h` = \"seagreen\", `+7d` = \"steelblue\")\n",
    "png(file = paste0(name, \"_abundance_curve\", \".png\"), width = 800, height = 600)\n",
    "# Plots a rank abundance curve of the relative clonal abundances\n",
    "plot(curve, colors = sample_colors, legend_title = name)\n",
    "if (debug == TRUE) {\n",
    "  dev.off()\n",
    "}\n",
    "print(paste(\"abundances curve chart is written to\",file.path(paste0(name, \"_abundance_curve\", \".png\"))))"
   ]
  },
  {
   "cell_type": "code",
   "execution_count": null,
   "id": "d4881d08-ce9a-4a6b-9c56-ae8f98a4a4ee",
   "metadata": {},
   "outputs": [],
   "source": []
  }
 ],
 "metadata": {
  "kernelspec": {
   "display_name": "R",
   "language": "R",
   "name": "ir"
  },
  "language_info": {
   "codemirror_mode": "r",
   "file_extension": ".r",
   "mimetype": "text/x-r-source",
   "name": "R",
   "pygments_lexer": "r",
   "version": "4.0.5"
  }
 },
 "nbformat": 4,
 "nbformat_minor": 5
}
