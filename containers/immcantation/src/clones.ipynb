{
 "cells": [
  {
   "cell_type": "code",
   "execution_count": 1,
   "id": "b41a8dc4-3008-49a9-82b6-055d0d9b9723",
   "metadata": {},
   "outputs": [],
   "source": [
    "include <- function(pkg) {\n",
    "  if (!suppressMessages(require(pkg, character.only = TRUE)))\n",
    "    install.packages(pkg, character.only = TRUE)\n",
    "  suppressMessages(library(pkg, pkg, character.only = TRUE))\n",
    "}\n",
    "include(\"docopt\")\n",
    "include(\"stringr\")\n",
    "include(\"alakazam\")\n",
    "include(\"scoper\")\n",
    "include(\"dplyr\")\n",
    "source(\"helpers.r\")"
   ]
  },
  {
   "cell_type": "code",
   "execution_count": 2,
   "id": "7c9d9845-f848-4427-9cd4-c1384d515e20",
   "metadata": {},
   "outputs": [],
   "source": [
    "doc <- \"Usage:\n",
    "  clones.R [--name <name>] [--threads <threads>] [--binwidth <binwidth>] [--wd <wd>][--suffix <suffix>] <tsv> \n",
    "\n",
    "  Options:   \n",
    "   -w --wd <wd> [default: .]\n",
    "   -n --name <name> Name of the sample\n",
    "   -t --threads <threads> Number of threads [type: int] [default: 8]\n",
    "   -b --binwidth Width of the bin in plotting [type: num] [default: 0.02]\n",
    "   -s --suffix <suffix> [default: _with_clones].\n",
    "   -h --help     Show this screen.\""
   ]
  },
  {
   "cell_type": "code",
   "execution_count": 3,
   "id": "e091d705-5092-45f2-9c82-e92282699b0b",
   "metadata": {},
   "outputs": [
    {
     "name": "stdout",
     "output_type": "stream",
     "text": [
      "[1] \"--suffix _with_clones --name S3987Nr1-PBMC_heavy /data/samples/AIRR-Seq/OURS/S3987Nr1/S3987Nr1-PBMC_heavy/changeo_igblast/S3987Nr1-PBMC_heavy_f_parse-select_with_translation.tsv\"\n",
      "List of 14\n",
      " $ --wd      : chr \".\"\n",
      " $ --name    : chr \"S3987Nr1-PBMC_heavy\"\n",
      " $ --threads : chr \"8\"\n",
      " $ --binwidth: chr \"0.02\"\n",
      " $ --suffix  : chr \"_with_clones\"\n",
      " $ --help    : logi FALSE\n",
      " $ <tsv>     : chr \"/data/samples/AIRR-Seq/OURS/S3987Nr1/S3987Nr1-PBMC_heavy/changeo_igblast/S3987Nr1-PBMC_heavy_f_parse-select_wit\"| __truncated__\n",
      " $ wd        : chr \".\"\n",
      " $ name      : chr \"S3987Nr1-PBMC_heavy\"\n",
      " $ threads   : chr \"8\"\n",
      " $ binwidth  : chr \"0.02\"\n",
      " $ suffix    : chr \"_with_clones\"\n",
      " $ help      : logi FALSE\n",
      " $ tsv       : chr \"/data/samples/AIRR-Seq/OURS/S3987Nr1/S3987Nr1-PBMC_heavy/changeo_igblast/S3987Nr1-PBMC_heavy_f_parse-select_wit\"| __truncated__\n",
      "NULL\n"
     ]
    }
   ],
   "source": [
    "debug <- TRUE\n",
    "if (debug == TRUE) {\n",
    "  tsv <- file.path(\"/data\", \"samples\", \"AIRR-Seq\", \"OURS\", \"S3987Nr1\", \"S3987Nr1-PBMC_heavy\", \"changeo_igblast\", \"S3987Nr1-PBMC_heavy_f_parse-select_with_translation.tsv\")  # 'clones', 'changeo_clone',  'our_pbmc_germ-pass.tsv')    \n",
    "  args <- paste(\"--suffix _with_clones --name S3987Nr1-PBMC_heavy\", tsv)\n",
    "  print(args)\n",
    "  values <- docopt(doc, args = args, version = \"0.1\")\n",
    "  print(values)\n",
    "} else {\n",
    "  values <- docopt(doc, version = \"0.1\")\n",
    "}"
   ]
  },
  {
   "cell_type": "code",
   "execution_count": 4,
   "id": "624dab2f-c798-4013-9313-817703388fc9",
   "metadata": {},
   "outputs": [],
   "source": [
    "tsv <- values$tsv\n",
    "name <- values$name\n",
    "binwidth <- as.numeric(values$binwidth)\n",
    "threads <- as.numeric(values$threads)"
   ]
  },
  {
   "cell_type": "markdown",
   "id": "c2a7520c-5cfb-4dd8-bb46-9d8d97cd9969",
   "metadata": {},
   "source": [
    "### Spectral clone analysis ###"
   ]
  },
  {
   "cell_type": "code",
   "execution_count": 6,
   "id": "2abde84f-8fb0-4746-b490-46be4ff17ebe",
   "metadata": {},
   "outputs": [
    {
     "name": "stdout",
     "output_type": "stream",
     "text": [
      "[1] \"starting spectral analyzis with  8 threads\"\n"
     ]
    },
    {
     "name": "stderr",
     "output_type": "stream",
     "text": [
      "Running defineClonesScoper in bulk mode\n",
      "\n"
     ]
    },
    {
     "name": "stdout",
     "output_type": "stream",
     "text": [
      "[1] \"Output is written to S3987Nr1-PBMC_heavy_vjl_groups.tsv\"\n",
      "[1] \"writing spectral analyzes results S3987Nr1-PBMC_heavy_with_clones.tsv\"\n",
      "[1] \"writing spectral analyzes picture S3987Nr1-PBMC_heavy_with_clones.png\"\n",
      "[1] \"binwidth is 0.02\"\n"
     ]
    },
    {
     "data": {
      "text/html": [
       "<strong>png:</strong> 2"
      ],
      "text/latex": [
       "\\textbf{png:} 2"
      ],
      "text/markdown": [
       "**png:** 2"
      ],
      "text/plain": [
       "png \n",
       "  2 "
      ]
     },
     "metadata": {},
     "output_type": "display_data"
    }
   ],
   "source": [
    "db <- readChangeoDb(tsv)\n",
    "\n",
    "print(paste(\"starting spectral analyzis with \", threads, \"threads\"))\n",
    "\n",
    "# Clonal assignment using identical nucleotide sequences\n",
    "results <- scoper::spectralClones(db, \"vj\", nproc = threads)\n",
    "\n",
    "writeAnalysisTable(results@vjl_groups, build_filepath(name, \"vjl_groups\", \"tsv\"))\n",
    "\n",
    "print(paste(\"writing spectral analyzes results\", file.path(paste0(name, values$suffix, \".tsv\"))))\n",
    "writeChangeoDb(results@db, file.path(paste0(name, values$suffix, \".tsv\")))\n",
    "\n",
    "print(paste(\"writing spectral analyzes picture\", file.path(paste0(name, values$suffix, \".png\"))))\n",
    "png(file = paste0(name, values$suffix, \".png\"), width = 800, height = 600)\n",
    "if (binwidth > 0) {\n",
    "    print(paste(\"binwidth is\", binwidth))\n",
    "  plot(results, binwidth = binwidth)\n",
    "} else plot(results)\n",
    "if (debug == TRUE) {\n",
    "  dev.off()\n",
    "}"
   ]
  }
 ],
 "metadata": {
  "kernelspec": {
   "display_name": "R",
   "language": "R",
   "name": "ir"
  },
  "language_info": {
   "codemirror_mode": "r",
   "file_extension": ".r",
   "mimetype": "text/x-r-source",
   "name": "R",
   "pygments_lexer": "r",
   "version": "4.0.5"
  }
 },
 "nbformat": 4,
 "nbformat_minor": 5
}
