{
 "cells": [
  {
   "cell_type": "code",
   "execution_count": 42,
   "id": "ed21cf54-58ae-44ba-93a1-fa9cd729dffd",
   "metadata": {},
   "outputs": [],
   "source": [
    "tsv <- file.path(\"/data\", \"samples\", \"AIRR-Seq\", \"OURS\", \"S3987Nr1\", \"S3987Nr1-PBMC_heavy\", \"changeo_igblast\", \"S3987Nr1-PBMC_heavy_f_parse-select_with_translation.tsv\")# \"clones\", \"changeo_clone\",  \"our_pbmc_germ-pass.tsv\")"
   ]
  },
  {
   "cell_type": "code",
   "execution_count": 135,
   "id": "b41a8dc4-3008-49a9-82b6-055d0d9b9723",
   "metadata": {},
   "outputs": [],
   "source": [
    "include = function(pkg){\n",
    "  if(!suppressMessages(require(pkg, character.only = TRUE)))\n",
    "  install.packages(pkg, character.only = TRUE)\n",
    "  suppressMessages(library(pkg, pkg, character.only = TRUE))\n",
    "}\n",
    "include(\"docopt\")\n",
    "include(\"stringr\")\n",
    "include(\"alakazam\")\n",
    "include(\"scoper\")\n",
    "include(\"dplyr\")"
   ]
  },
  {
   "cell_type": "code",
   "execution_count": 163,
   "id": "7c9d9845-f848-4427-9cd4-c1384d515e20",
   "metadata": {},
   "outputs": [],
   "source": [
    "doc <- 'Usage:\n",
    "  clones.R [--name <name>] [--wd <wd>][--suffix <suffix>] <tsv> \n",
    "\n",
    "  Options:   \n",
    "   -w --wd <wd> [default: TRUE]\n",
    "   -n --name <name>\n",
    "   -s --suffix <suffix> [default: _with_clones].\n",
    "   -h --help     Show this screen.'"
   ]
  },
  {
   "cell_type": "code",
   "execution_count": 170,
   "id": "e091d705-5092-45f2-9c82-e92282699b0b",
   "metadata": {},
   "outputs": [
    {
     "name": "stdout",
     "output_type": "stream",
     "text": [
      "[1] \"--suffix _with_clones --name S3987Nr1-PBMC_heavy /data/samples/AIRR-Seq/OURS/S3987Nr1/S3987Nr1-PBMC_heavy/changeo_igblast/S3987Nr1-PBMC_heavy_f_parse-select_with_translation.tsv\"\n"
     ]
    }
   ],
   "source": [
    "debug <- TRUE\n",
    "if(debug == TRUE) {\n",
    "    tsv <- file.path(\"/data\", \"samples\", \"AIRR-Seq\", \"OURS\", \"S3987Nr1\", \"S3987Nr1-PBMC_heavy\", \"changeo_igblast\", \"S3987Nr1-PBMC_heavy_f_parse-select_with_translation.tsv\")# \"clones\", \"changeo_clone\",  \"our_pbmc_germ-pass.tsv\")    \n",
    "    args <- paste(\"--suffix _with_clones --name S3987Nr1-PBMC_heavy\", tsv)\n",
    "    print(args)\n",
    "    values <- docopt(doc, args = args, version=\"0.1\")\n",
    "} else {\n",
    "    values <- docopt(doc, version=\"0.1\")\n",
    "}\n"
   ]
  },
  {
   "cell_type": "code",
   "execution_count": 172,
   "id": "624dab2f-c798-4013-9313-817703388fc9",
   "metadata": {},
   "outputs": [
    {
     "data": {
      "text/html": [
       "'S3987Nr1-PBMC_heavy'"
      ],
      "text/latex": [
       "'S3987Nr1-PBMC\\_heavy'"
      ],
      "text/markdown": [
       "'S3987Nr1-PBMC_heavy'"
      ],
      "text/plain": [
       "[1] \"S3987Nr1-PBMC_heavy\""
      ]
     },
     "metadata": {},
     "output_type": "display_data"
    }
   ],
   "source": [
    "tsv <- values$tsv\n",
    "name <- values$name\n",
    "name"
   ]
  },
  {
   "cell_type": "code",
   "execution_count": 136,
   "id": "1376b973-d70a-4984-9265-77c9f414873b",
   "metadata": {},
   "outputs": [
    {
     "name": "stderr",
     "output_type": "stream",
     "text": [
      "Running defineClonesScoper in bulk mode\n",
      "\n"
     ]
    }
   ],
   "source": [
    "db = readChangeoDb(tsv)\n",
    "# Clonal assignment using identical nucleotide sequences\n",
    "results <- spectralClones(db, \"vj\")"
   ]
  },
  {
   "cell_type": "code",
   "execution_count": 177,
   "id": "a4d088db-b737-425a-bb23-68d7a4db24d5",
   "metadata": {},
   "outputs": [],
   "source": [
    "wd = getwd()\n",
    "write.table(results@vjl_groups, file=file.path(paste0(name,\"_vjl_groups\",'.tsv')), quote=FALSE, row.names = FALSE, sep='\\t')\n"
   ]
  },
  {
   "cell_type": "code",
   "execution_count": 53,
   "id": "3a69485f-d0ae-4174-9b17-6480c322139a",
   "metadata": {},
   "outputs": [
    {
     "data": {
      "image/png": "[encoded data removed]",
      "text/plain": [
       "plot without title"
      ]
     },
     "metadata": {
      "image/png": {
       "height": 420,
       "width": 420
      }
     },
     "output_type": "display_data"
    }
   ],
   "source": [
    "png(file=paste0(name+values$suffix\".png\"), width = 800, height = 600)\n",
    "plot(results, binwidth=0.02)\n",
    "dev.off()"
   ]
  }
 ],
 "metadata": {
  "kernelspec": {
   "display_name": "R",
   "language": "R",
   "name": "ir"
  },
  "language_info": {
   "codemirror_mode": "r",
   "file_extension": ".r",
   "mimetype": "text/x-r-source",
   "name": "R",
   "pygments_lexer": "r",
   "version": "4.0.5"
  }
 },
 "nbformat": 4,
 "nbformat_minor": 5
}
