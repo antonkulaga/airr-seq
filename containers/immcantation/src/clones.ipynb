{
 "cells": [
  {
   "cell_type": "code",
   "execution_count": 1,
   "id": "b41a8dc4-3008-49a9-82b6-055d0d9b9723",
   "metadata": {},
   "outputs": [],
   "source": [
    "include <- function(pkg) {\n",
    "  if (!suppressMessages(require(pkg, character.only = TRUE)))\n",
    "    install.packages(pkg, character.only = TRUE)\n",
    "  suppressMessages(library(pkg, pkg, character.only = TRUE))\n",
    "}\n",
    "include(\"docopt\")\n",
    "include(\"stringr\")\n",
    "include(\"alakazam\")\n",
    "include(\"scoper\")\n",
    "include(\"dplyr\")"
   ]
  },
  {
   "cell_type": "code",
   "execution_count": 2,
   "id": "7c9d9845-f848-4427-9cd4-c1384d515e20",
   "metadata": {},
   "outputs": [],
   "source": [
    "doc <- \"Usage:\n",
    "  clones.R analyze_clones [--name <name>] [--threads <threads>] [--binwidth <binwidth>] [--wd <wd>][--suffix <suffix>] <tsv> \n",
    "  clones.R analyze_diversity [--name <name>] [--wd <wd>] <clones_tsv>  \n",
    "\n",
    "  Options:   \n",
    "   -w --wd <wd> [default: .]\n",
    "   -n --name <name> Name of the sample\n",
    "   -t --threads <threads> Number of threads [type: int] [default: 8]\n",
    "   -b --binwidth Width of the bin in plotting [type: num] [default: 0.02]\n",
    "   -s --suffix <suffix> [default: _with_clones].\n",
    "   -h --help     Show this screen.\""
   ]
  },
  {
   "cell_type": "code",
   "execution_count": 3,
   "id": "e091d705-5092-45f2-9c82-e92282699b0b",
   "metadata": {},
   "outputs": [
    {
     "name": "stdout",
     "output_type": "stream",
     "text": [
      "[1] \"analyze_clones --suffix _with_clones --name S3987Nr1-PBMC_heavy /data/samples/AIRR-Seq/OURS/S3987Nr1/S3987Nr1-PBMC_heavy/changeo_igblast/S3987Nr1-PBMC_heavy_f_parse-select_with_translation.tsv\"\n",
      "List of 18\n",
      " $ --wd             : chr \".\"\n",
      " $ --name           : chr \"S3987Nr1-PBMC_heavy\"\n",
      " $ --threads        : chr \"8\"\n",
      " $ --binwidth       : chr \"0.02\"\n",
      " $ --suffix         : chr \"_with_clones\"\n",
      " $ --help           : logi FALSE\n",
      " $ analyze_clones   : logi TRUE\n",
      " $ <tsv>            : chr \"/data/samples/AIRR-Seq/OURS/S3987Nr1/S3987Nr1-PBMC_heavy/changeo_igblast/S3987Nr1-PBMC_heavy_f_parse-select_wit\"| __truncated__\n",
      " $ analyze_diversity: logi FALSE\n",
      " $ <clones_tsv>     : NULL\n",
      " $ wd               : chr \".\"\n",
      " $ name             : chr \"S3987Nr1-PBMC_heavy\"\n",
      " $ threads          : chr \"8\"\n",
      " $ binwidth         : chr \"0.02\"\n",
      " $ suffix           : chr \"_with_clones\"\n",
      " $ help             : logi FALSE\n",
      " $ tsv              : chr \"/data/samples/AIRR-Seq/OURS/S3987Nr1/S3987Nr1-PBMC_heavy/changeo_igblast/S3987Nr1-PBMC_heavy_f_parse-select_wit\"| __truncated__\n",
      " $ clones_tsv       : NULL\n",
      "NULL\n"
     ]
    }
   ],
   "source": [
    "debug <- TRUE\n",
    "debug_command <- \"analyze_clones\"  # {\"analyze_clones\", \"analyze_diversity\"}\n",
    "if (debug == TRUE) {\n",
    "    if (debug_command == \"analyze_clones\") {\n",
    "        tsv <- file.path(\"/data\", \"samples\", \"AIRR-Seq\", \"OURS\", \"S3987Nr1\", \"S3987Nr1-PBMC_heavy\", \"changeo_igblast\", \"S3987Nr1-PBMC_heavy_f_parse-select_with_translation.tsv\")  # 'clones', 'changeo_clone',  'our_pbmc_germ-pass.tsv')    \n",
    "        args <- paste(\"analyze_clones --suffix _with_clones --name S3987Nr1-PBMC_heavy\", tsv)\n",
    "    } else if (debug_command == \"analyze_diversity\") {\n",
    "        tsv <- file.path(\"/data\", \"samples\", \"AIRR-Seq\", \"OURS\", \"S3987Nr1\", \"S3987Nr1-PBMC_heavy\", \"subsamples\", \"sample_1000\", \"clones\", \"S3987Nr1-PBMC_heavy_with_clones.tsv\")   \n",
    "        args <- paste(\"analyze_diversity --name S3987Nr1-PBMC_heavy\", tsv)   \n",
    "    } else {\n",
    "        stop(paste0(\"Debug command \", debug_command, \" is not supported.\"))\n",
    "    }\n",
    "    print(args)\n",
    "    values <- docopt(doc, args = args, version = \"0.1\")\n",
    "    print(values)\n",
    "} else {\n",
    "    values <- docopt(doc, version = \"0.1\")\n",
    "}"
   ]
  },
  {
   "cell_type": "code",
   "execution_count": 4,
   "id": "624dab2f-c798-4013-9313-817703388fc9",
   "metadata": {},
   "outputs": [],
   "source": [
    "tsv <- values$tsv\n",
    "name <- values$name\n",
    "binwidth <- as.numeric(values$binwidth)\n",
    "threads <- as.numeric(values$threads)\n",
    "\n",
    "clones_tsv <- values$clones_tsv\n",
    "analyze_clones <- values$analyze_clones\n",
    "analyze_diversity <- values$analyze_diversity"
   ]
  },
  {
   "cell_type": "code",
   "execution_count": 5,
   "id": "887ea870-e4d4-4aa1-a64e-5d2eb27884a9",
   "metadata": {},
   "outputs": [],
   "source": [
    "# Helper functions\n",
    "build_filepath <- function(name, suffix, type=\"tsv\") {\n",
    "    if (type %in% c(\"tsv\", \"svg\")) {\n",
    "        return(\n",
    "            file.path(paste0(name, \"_\", suffix, \".\", type))\n",
    "        )\n",
    "    } else {\n",
    "        stop(paste0(\"Filetype \", type, \" not supported.\"))\n",
    "    }\n",
    "}\n",
    "\n",
    "writeAnalysisTable <- function(table, filepath) {\n",
    "    write.table(\n",
    "        table, \n",
    "        file = filepath, \n",
    "        quote = FALSE, \n",
    "        row.names = FALSE, \n",
    "        sep = \"\\t\")\n",
    "    print(paste0(\"Output is written to \", filepath))\n",
    "}"
   ]
  },
  {
   "cell_type": "markdown",
   "id": "c2a7520c-5cfb-4dd8-bb46-9d8d97cd9969",
   "metadata": {},
   "source": [
    "### Spectral clone analysis ###"
   ]
  },
  {
   "cell_type": "code",
   "execution_count": 8,
   "id": "e595c5b9-c527-4e21-8c29-d80a18b266b1",
   "metadata": {},
   "outputs": [],
   "source": [
    "computeSpectralClones <- function(\n",
    "    db, threads, verbose = TRUE) {\n",
    "    \n",
    "    results <- tryCatch({\n",
    "            scoper::spectralClones(db, \"vj\", verbose = verbose, nproc = threads)\n",
    "            },\n",
    "            warning = function(cond) {\n",
    "                iter_max_warning = 15000\n",
    "                nstart_warning = 5000\n",
    "                print(paste0(\n",
    "                    \"Warning issued. Retrying with iter_max=\", iter_max_warning,\n",
    "                    \"; nstart=\", nstart_warning\n",
    "                ))\n",
    "                scoper::spectralClones(\n",
    "                    db,\n",
    "                    \"vj\",\n",
    "                    verbose = TRUE, \n",
    "                    iter_max = iter_max_warning,\n",
    "                    nstart = nstart_warning\n",
    "                )\n",
    "        })\n",
    "    return(results)\n",
    "}"
   ]
  },
  {
   "cell_type": "code",
   "execution_count": 9,
   "id": "2abde84f-8fb0-4746-b490-46be4ff17ebe",
   "metadata": {},
   "outputs": [
    {
     "name": "stdout",
     "output_type": "stream",
     "text": [
      "[1] \"starting spectral analyzis with  8 threads\"\n"
     ]
    },
    {
     "name": "stderr",
     "output_type": "stream",
     "text": [
      "Running defineClonesScoper in bulk mode\n",
      "\n"
     ]
    },
    {
     "name": "stdout",
     "output_type": "stream",
     "text": [
      "     MAX_N_FILTER>  0 invalid junction(s) ( # of N > 0 ) in the junction column removed. \n",
      "[1] \"Output is written to S3987Nr1-PBMC_heavy_vjl_groups.tsv\"\n",
      "[1] \"writing spectral analyzes results S3987Nr1-PBMC_heavy_with_clones.tsv\"\n",
      "[1] \"writing spectral analyzes picture S3987Nr1-PBMC_heavy_with_clones.png\"\n",
      "[1] \"binwidth is 0.02\"\n"
     ]
    },
    {
     "data": {
      "text/html": [
       "<strong>png:</strong> 2"
      ],
      "text/latex": [
       "\\textbf{png:} 2"
      ],
      "text/markdown": [
       "**png:** 2"
      ],
      "text/plain": [
       "png \n",
       "  2 "
      ]
     },
     "metadata": {},
     "output_type": "display_data"
    }
   ],
   "source": [
    "if (analyze_clones == TRUE) {\n",
    "    db <- alakazam::readChangeoDb(tsv)\n",
    "\n",
    "    print(paste(\"starting spectral analyzis with \", threads, \"threads\"))\n",
    "\n",
    "    # Clonal assignment using identical nucleotide sequences\n",
    "    results <- computeSpectralClones(db, threads, verbose=TRUE)\n",
    "\n",
    "    writeAnalysisTable(results@vjl_groups, build_filepath(name, \"vjl_groups\", \"tsv\"))\n",
    "\n",
    "    print(paste(\"writing spectral analyzes results\", file.path(paste0(name, values$suffix, \".tsv\"))))\n",
    "    writeChangeoDb(results@db, file.path(paste0(name, values$suffix, \".tsv\")))\n",
    "\n",
    "    print(paste(\"writing spectral analyzes picture\", file.path(paste0(name, values$suffix, \".svg\"))))\n",
    "    svg(file = paste0(name, values$suffix, \".svg\"), width = 800, height = 600)\n",
    "    if (binwidth > 0) {\n",
    "        print(paste(\"binwidth is\", binwidth))\n",
    "      plot(results, binwidth = binwidth)\n",
    "    } else plot(results)\n",
    "    if (debug == TRUE) {\n",
    "      dev.off()\n",
    "    }\n",
    "}"
   ]
  },
  {
   "cell_type": "markdown",
   "id": "c9bc9dc7-201c-4509-913c-d78c1b643c48",
   "metadata": {},
   "source": [
    "### Compute counts, abundance, diversity, coverage ###"
   ]
  },
  {
   "cell_type": "code",
   "execution_count": 8,
   "id": "6e9c2a2a-a4ae-4a1d-b268-fdd120ad404c",
   "metadata": {},
   "outputs": [],
   "source": [
    "computeCloneCounts <- function(clones_results, name) {\n",
    "    print(\"Computing clonotypes counts\")\n",
    "    counts <- alakazam::countClones(clones_results, copy = \"duplicate_count\")\n",
    "    writeAnalysisTable(counts, build_filepath(name, \"clone_counts\", \"tsv\"))\n",
    "    return(counts)\n",
    "}\n",
    "\n",
    "computeCoverage <- function(counts) {\n",
    "    \n",
    "    computeCoverage_subroutine <- function(max_order, counts) {\n",
    "        orders <- 1:max_order\n",
    "        coverages <- sapply(\n",
    "            orders,\n",
    "            function(order) { alakazam::calcCoverage(counts$seq_count, order) }\n",
    "        )\n",
    "        return(coverages)\n",
    "    }\n",
    "    \n",
    "    tryCatchComputeCoverage <- function(counts, env) {\n",
    "        coverages <- tryCatch({\n",
    "                order <- get(\"order\", env=env)\n",
    "                return(computeCoverage_subroutine(order, counts))\n",
    "            },\n",
    "            error=function(cond) {\n",
    "                order <- get(\"order\", env=env)\n",
    "                assign(\"order\", order-1, env=env)\n",
    "                print(paste0(\"Attempted coverage computation with order=\", order,\n",
    "                             \"; Encountered error: \", cond, \"; Attempting with order=\", order-1))\n",
    "                return(tryCatchComputeCoverage(counts, env))\n",
    "            }\n",
    "        )\n",
    "        return(coverages)\n",
    "    }\n",
    "    \n",
    "    compute_coverage_env <- new.env()\n",
    "    assign(\"order\", 10, env=compute_coverage_env)\n",
    "    coverages <- tryCatchComputeCoverage(counts, compute_coverage_env)\n",
    "\n",
    "    order <- get(\"order\", env=compute_coverage_env)\n",
    "    df <- data.frame(1:order, coverages)\n",
    "    writeAnalysisTable(df, build_filepath(name, \"coverages\", \"tsv\"))\n",
    "}\n",
    "\n",
    "plotAbundancy <- function(abundanceCurve, name, filepath, debug) {\n",
    "    sample_colors <- c(`-1h` = \"seagreen\", `+7d` = \"steelblue\")\n",
    "    svg(file = filepath, width = 800, height = 600)\n",
    "    # Plots a rank abundance curve of the relative clonal abundances\n",
    "    plot(abundanceCurve, colors = sample_colors, legend_title = name)\n",
    "    if (debug == TRUE) {\n",
    "      dev.off()\n",
    "    }\n",
    "    print(paste(\"abundances curve chart is written to\", filepath))\n",
    "    plot(abundanceCurve, colors = sample_colors, legend_title = name)  # to display in notebook\n",
    "}\n",
    "computeAbundancy <- function(clones_results, name, debug) {\n",
    "    print(\"Calculates abundancy with 95% confidence interval via 200 bootstrap realizations\")\n",
    "    abundanceCurve <- alakazam::estimateAbundance(clones_results, ci = 0.95, nboot = 200, clone = \"clone_id\", progress = TRUE)\n",
    "    writeAnalysisTable(abundanceCurve@abundance, build_filepath(name, \"abundance_curve\", \"tsv\"))\n",
    "    plotAbundancy(abundanceCurve, name, build_filepath(name, \"abundancy_curve\", \"svg\"), debug)\n",
    "    return(abundanceCurve)\n",
    "}\n",
    "\n",
    "plotDiversity <- function(diversity, filepath, debug) {\n",
    "    svg(file = filepath, width = 800, height = 600)\n",
    "    plot(diversity)\n",
    "    if (debug == TRUE) {\n",
    "      dev.off()\n",
    "    }\n",
    "    print(paste(\"diversity curve is written to\", filepath))\n",
    "    plot(diversity)\n",
    "}\n",
    "computeDiversity <- function(abundancyCurve, name, debug) {\n",
    "    diversity <- alakazam::alphaDiversity(abundancyCurve)\n",
    "    writeAnalysisTable(diversity@diversity, build_filepath(name, \"diversity\", \"tsv\"))\n",
    "    plotDiversity(diversity, build_filepath(name, \"diversity\", \"svg\"), debug)\n",
    "    return(diversity)\n",
    "}"
   ]
  },
  {
   "cell_type": "code",
   "execution_count": 12,
   "id": "9b68b49c-a1c0-4488-8f95-dc79ab87a41b",
   "metadata": {},
   "outputs": [
    {
     "name": "stdout",
     "output_type": "stream",
     "text": [
      "[1] \"Computing clonotypes counts\"\n",
      "[1] \"Output is written to S3987Nr1-PBMC_heavy_clone_counts.tsv\"\n",
      "[1] \"Attempted coverage computation with order=10; Encountered error: Error in alakazam::calcCoverage(counts$seq_count, order): Cannot calculate coverage of order 4. No abundance data with count=5.\\n; Attempting with order=9\"\n",
      "[1] \"Attempted coverage computation with order=9; Encountered error: Error in alakazam::calcCoverage(counts$seq_count, order): Cannot calculate coverage of order 4. No abundance data with count=5.\\n; Attempting with order=8\"\n",
      "[1] \"Attempted coverage computation with order=8; Encountered error: Error in alakazam::calcCoverage(counts$seq_count, order): Cannot calculate coverage of order 4. No abundance data with count=5.\\n; Attempting with order=7\"\n",
      "[1] \"Attempted coverage computation with order=7; Encountered error: Error in alakazam::calcCoverage(counts$seq_count, order): Cannot calculate coverage of order 4. No abundance data with count=5.\\n; Attempting with order=6\"\n",
      "[1] \"Attempted coverage computation with order=6; Encountered error: Error in alakazam::calcCoverage(counts$seq_count, order): Cannot calculate coverage of order 4. No abundance data with count=5.\\n; Attempting with order=5\"\n",
      "[1] \"Attempted coverage computation with order=5; Encountered error: Error in alakazam::calcCoverage(counts$seq_count, order): Cannot calculate coverage of order 4. No abundance data with count=5.\\n; Attempting with order=4\"\n",
      "[1] \"Attempted coverage computation with order=4; Encountered error: Error in alakazam::calcCoverage(counts$seq_count, order): Cannot calculate coverage of order 4. No abundance data with count=5.\\n; Attempting with order=3\"\n",
      "[1] \"Output is written to S3987Nr1-PBMC_heavy_coverages.tsv\"\n",
      "[1] \"Calculates abundancy with 95% confidence interval via 200 bootstrap realizations\"\n",
      "[1] \"Output is written to S3987Nr1-PBMC_heavy_abundance_curve.tsv\"\n",
      "[1] \"abundances curve chart is written to S3987Nr1-PBMC_heavy_abundancy_curve.png\"\n",
      "[1] \"Output is written to S3987Nr1-PBMC_heavy_diversity.tsv\"\n",
      "[1] \"diversity curve is written to S3987Nr1-PBMC_heavy_diversity.png\"\n"
     ]
    },
    {
     "data": {
      "image/png": "[encoded data removed]",
      "text/plain": [
       "plot without title"
      ]
     },
     "metadata": {
      "image/png": {
       "height": 420,
       "width": 420
      }
     },
     "output_type": "display_data"
    },
    {
     "data": {
      "image/png": "[encoded data removed]",
      "text/plain": [
       "plot without title"
      ]
     },
     "metadata": {
      "image/png": {
       "height": 420,
       "width": 420
      }
     },
     "output_type": "display_data"
    }
   ],
   "source": [
    "if (analyze_diversity == TRUE) {\n",
    "    results <- alakazam::readChangeoDb(clones_tsv)\n",
    "    counts <- computeCloneCounts(results, name)\n",
    "    computeCoverage(counts)\n",
    "    \n",
    "    tryCatch({\n",
    "        abundanceCurve <- computeAbundancy(results, name, debug)\n",
    "        diversity <- computeDiversity(abundanceCurve, name, debug)\n",
    "        },\n",
    "        error = function(cond) {\n",
    "            print(cond)\n",
    "            print(\"Further execution halted.\")\n",
    "        }\n",
    "    )\n",
    "}"
   ]
  }
 ],
 "metadata": {
  "kernelspec": {
   "display_name": "R",
   "language": "R",
   "name": "ir"
  },
  "language_info": {
   "codemirror_mode": "r",
   "file_extension": ".r",
   "mimetype": "text/x-r-source",
   "name": "R",
   "pygments_lexer": "r",
   "version": "4.0.3"
  }
 },
 "nbformat": 4,
 "nbformat_minor": 5
}
